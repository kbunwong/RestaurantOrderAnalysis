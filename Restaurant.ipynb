{
 "cells": [
  {
   "cell_type": "markdown",
   "metadata": {
    "application/vnd.databricks.v1+cell": {
     "cellMetadata": {},
     "inputWidgets": {},
     "nuid": "31dc11c6-b9d6-451d-a1da-1188a6a5453e",
     "showTitle": false,
     "tableResultSettingsMap": {},
     "title": ""
    }
   },
   "source": [
    "Explore the items table \n",
    "- View the menu_items table and find the number of the items that are on the menu\n",
    "- What are the most and least expensive items on the menu\n",
    "- How many Italian dishes are on the menu? \n",
    "  - What are the most and least expensive Italian dishes on the menu\n",
    "- How many dishes are in each category? What is the average dish price within each category?"
   ]
  },
  {
   "cell_type": "code",
   "execution_count": 0,
   "metadata": {
    "application/vnd.databricks.v1+cell": {
     "cellMetadata": {
      "byteLimit": 2048000,
      "rowLimit": 10000
     },
     "inputWidgets": {},
     "nuid": "0ed22ea9-3a2c-40cc-b7be-ad1e3b70a526",
     "showTitle": false,
     "tableResultSettingsMap": {},
     "title": ""
    }
   },
   "outputs": [
    {
     "output_type": "display_data",
     "data": {
      "text/html": [
       "<style scoped>\n",
       "  .table-result-container {\n",
       "    max-height: 300px;\n",
       "    overflow: auto;\n",
       "  }\n",
       "  table, th, td {\n",
       "    border: 1px solid black;\n",
       "    border-collapse: collapse;\n",
       "  }\n",
       "  th, td {\n",
       "    padding: 5px;\n",
       "  }\n",
       "  th {\n",
       "    text-align: left;\n",
       "  }\n",
       "</style><div class='table-result-container'><table class='table-result'><thead style='background-color: white'><tr><th>col_name</th><th>data_type</th><th>comment</th></tr></thead><tbody><tr><td>menu_item_id</td><td>int</td><td>null</td></tr><tr><td>item_name</td><td>string</td><td>null</td></tr><tr><td>category</td><td>string</td><td>null</td></tr><tr><td>price</td><td>float</td><td>null</td></tr></tbody></table></div>"
      ]
     },
     "metadata": {
      "application/vnd.databricks.v1+output": {
       "addedWidgets": {},
       "aggData": [],
       "aggError": "",
       "aggOverflow": false,
       "aggSchema": [],
       "aggSeriesLimitReached": false,
       "aggType": "",
       "arguments": {},
       "columnCustomDisplayInfos": {},
       "data": [
        [
         "menu_item_id",
         "int",
         null
        ],
        [
         "item_name",
         "string",
         null
        ],
        [
         "category",
         "string",
         null
        ],
        [
         "price",
         "float",
         null
        ]
       ],
       "datasetInfos": [],
       "dbfsResultPath": null,
       "isJsonSchema": true,
       "metadata": {
        "isDbfsCommandResult": false
       },
       "overflow": false,
       "plotOptions": {
        "customPlotOptions": {},
        "displayType": "table",
        "pivotAggregation": null,
        "pivotColumns": null,
        "xColumns": null,
        "yColumns": null
       },
       "removedWidgets": [],
       "schema": [
        {
         "metadata": "{\"comment\":\"name of the column\"}",
         "name": "col_name",
         "type": "\"string\""
        },
        {
         "metadata": "{\"comment\":\"data type of the column\"}",
         "name": "data_type",
         "type": "\"string\""
        },
        {
         "metadata": "{\"comment\":\"comment of the column\"}",
         "name": "comment",
         "type": "\"string\""
        }
       ],
       "type": "table"
      }
     },
     "output_type": "display_data"
    }
   ],
   "source": [
    "%sql\n",
    "describe menu_items;"
   ]
  },
  {
   "cell_type": "code",
   "execution_count": 0,
   "metadata": {
    "application/vnd.databricks.v1+cell": {
     "cellMetadata": {
      "byteLimit": 2048000,
      "rowLimit": 10000
     },
     "inputWidgets": {},
     "nuid": "304c6c8e-01d9-4437-afcf-c5bc6aa20930",
     "showTitle": false,
     "tableResultSettingsMap": {},
     "title": ""
    }
   },
   "outputs": [
    {
     "output_type": "display_data",
     "data": {
      "text/html": [
       "<style scoped>\n",
       "  .table-result-container {\n",
       "    max-height: 300px;\n",
       "    overflow: auto;\n",
       "  }\n",
       "  table, th, td {\n",
       "    border: 1px solid black;\n",
       "    border-collapse: collapse;\n",
       "  }\n",
       "  th, td {\n",
       "    padding: 5px;\n",
       "  }\n",
       "  th {\n",
       "    text-align: left;\n",
       "  }\n",
       "</style><div class='table-result-container'><table class='table-result'><thead style='background-color: white'><tr><th>menu_item_id</th><th>item_name</th><th>category</th><th>price</th></tr></thead><tbody><tr><td>101</td><td>Hamburger</td><td>American</td><td>12.95</td></tr><tr><td>102</td><td>Cheeseburger</td><td>American</td><td>13.95</td></tr><tr><td>103</td><td>Hot Dog</td><td>American</td><td>9.0</td></tr><tr><td>104</td><td>Veggie Burger</td><td>American</td><td>10.5</td></tr><tr><td>105</td><td>Mac & Cheese</td><td>American</td><td>7.0</td></tr><tr><td>106</td><td>French Fries</td><td>American</td><td>7.0</td></tr><tr><td>107</td><td>Orange Chicken</td><td>Asian</td><td>16.5</td></tr><tr><td>108</td><td>Tofu Pad Thai</td><td>Asian</td><td>14.5</td></tr><tr><td>109</td><td>Korean Beef Bowl</td><td>Asian</td><td>17.95</td></tr><tr><td>110</td><td>Pork Ramen</td><td>Asian</td><td>17.95</td></tr><tr><td>111</td><td>California Roll</td><td>Asian</td><td>11.95</td></tr><tr><td>112</td><td>Salmon Roll</td><td>Asian</td><td>14.95</td></tr><tr><td>113</td><td>Edamame</td><td>Asian</td><td>5.0</td></tr><tr><td>114</td><td>Potstickers</td><td>Asian</td><td>9.0</td></tr><tr><td>115</td><td>Chicken Tacos</td><td>Mexican</td><td>11.95</td></tr><tr><td>116</td><td>Steak Tacos</td><td>Mexican</td><td>13.95</td></tr><tr><td>117</td><td>Chicken Burrito</td><td>Mexican</td><td>12.95</td></tr><tr><td>118</td><td>Steak Burrito</td><td>Mexican</td><td>14.95</td></tr><tr><td>119</td><td>Chicken Torta</td><td>Mexican</td><td>11.95</td></tr><tr><td>120</td><td>Steak Torta</td><td>Mexican</td><td>13.95</td></tr><tr><td>121</td><td>Cheese Quesadillas</td><td>Mexican</td><td>10.5</td></tr><tr><td>122</td><td>Chips & Salsa</td><td>Mexican</td><td>7.0</td></tr><tr><td>123</td><td>Chips & Guacamole</td><td>Mexican</td><td>9.0</td></tr><tr><td>124</td><td>Spaghetti</td><td>Italian</td><td>14.5</td></tr><tr><td>125</td><td>Spaghetti & Meatballs</td><td>Italian</td><td>17.95</td></tr><tr><td>126</td><td>Fettuccine Alfredo</td><td>Italian</td><td>14.5</td></tr><tr><td>127</td><td>Meat Lasagna</td><td>Italian</td><td>17.95</td></tr><tr><td>128</td><td>Cheese Lasagna</td><td>Italian</td><td>15.5</td></tr><tr><td>129</td><td>Mushroom Ravioli</td><td>Italian</td><td>15.5</td></tr><tr><td>130</td><td>Shrimp Scampi</td><td>Italian</td><td>19.95</td></tr><tr><td>131</td><td>Chicken Parmesan</td><td>Italian</td><td>17.95</td></tr><tr><td>132</td><td>Eggplant Parmesan</td><td>Italian</td><td>16.95</td></tr></tbody></table></div>"
      ]
     },
     "metadata": {
      "application/vnd.databricks.v1+output": {
       "addedWidgets": {},
       "aggData": [],
       "aggError": "",
       "aggOverflow": false,
       "aggSchema": [],
       "aggSeriesLimitReached": false,
       "aggType": "",
       "arguments": {},
       "columnCustomDisplayInfos": {},
       "data": [
        [
         101,
         "Hamburger",
         "American",
         12.95
        ],
        [
         102,
         "Cheeseburger",
         "American",
         13.95
        ],
        [
         103,
         "Hot Dog",
         "American",
         9.0
        ],
        [
         104,
         "Veggie Burger",
         "American",
         10.5
        ],
        [
         105,
         "Mac & Cheese",
         "American",
         7.0
        ],
        [
         106,
         "French Fries",
         "American",
         7.0
        ],
        [
         107,
         "Orange Chicken",
         "Asian",
         16.5
        ],
        [
         108,
         "Tofu Pad Thai",
         "Asian",
         14.5
        ],
        [
         109,
         "Korean Beef Bowl",
         "Asian",
         17.95
        ],
        [
         110,
         "Pork Ramen",
         "Asian",
         17.95
        ],
        [
         111,
         "California Roll",
         "Asian",
         11.95
        ],
        [
         112,
         "Salmon Roll",
         "Asian",
         14.95
        ],
        [
         113,
         "Edamame",
         "Asian",
         5.0
        ],
        [
         114,
         "Potstickers",
         "Asian",
         9.0
        ],
        [
         115,
         "Chicken Tacos",
         "Mexican",
         11.95
        ],
        [
         116,
         "Steak Tacos",
         "Mexican",
         13.95
        ],
        [
         117,
         "Chicken Burrito",
         "Mexican",
         12.95
        ],
        [
         118,
         "Steak Burrito",
         "Mexican",
         14.95
        ],
        [
         119,
         "Chicken Torta",
         "Mexican",
         11.95
        ],
        [
         120,
         "Steak Torta",
         "Mexican",
         13.95
        ],
        [
         121,
         "Cheese Quesadillas",
         "Mexican",
         10.5
        ],
        [
         122,
         "Chips & Salsa",
         "Mexican",
         7.0
        ],
        [
         123,
         "Chips & Guacamole",
         "Mexican",
         9.0
        ],
        [
         124,
         "Spaghetti",
         "Italian",
         14.5
        ],
        [
         125,
         "Spaghetti & Meatballs",
         "Italian",
         17.95
        ],
        [
         126,
         "Fettuccine Alfredo",
         "Italian",
         14.5
        ],
        [
         127,
         "Meat Lasagna",
         "Italian",
         17.95
        ],
        [
         128,
         "Cheese Lasagna",
         "Italian",
         15.5
        ],
        [
         129,
         "Mushroom Ravioli",
         "Italian",
         15.5
        ],
        [
         130,
         "Shrimp Scampi",
         "Italian",
         19.95
        ],
        [
         131,
         "Chicken Parmesan",
         "Italian",
         17.95
        ],
        [
         132,
         "Eggplant Parmesan",
         "Italian",
         16.95
        ]
       ],
       "datasetInfos": [],
       "dbfsResultPath": null,
       "isJsonSchema": true,
       "metadata": {
        "isDbfsCommandResult": false
       },
       "overflow": false,
       "plotOptions": {
        "customPlotOptions": {},
        "displayType": "table",
        "pivotAggregation": null,
        "pivotColumns": null,
        "xColumns": null,
        "yColumns": null
       },
       "removedWidgets": [],
       "schema": [
        {
         "metadata": "{}",
         "name": "menu_item_id",
         "type": "\"integer\""
        },
        {
         "metadata": "{}",
         "name": "item_name",
         "type": "\"string\""
        },
        {
         "metadata": "{}",
         "name": "category",
         "type": "\"string\""
        },
        {
         "metadata": "{}",
         "name": "price",
         "type": "\"float\""
        }
       ],
       "type": "table"
      }
     },
     "output_type": "display_data"
    },
    {
     "output_type": "display_data",
     "data": {
      "text/plain": [
       "Databricks visualization. Run in Databricks to view."
      ]
     },
     "metadata": {
      "application/vnd.databricks.v1.subcommand+json": {
       "baseErrorDetails": null,
       "bindings": {},
       "collapsed": false,
       "command": "%sql WITH q AS (SELECT * FROM menu_items) SELECT `item_name`,SUM(`price`) `column_32225e53167` FROM q GROUP BY `item_name`",
       "commandTitle": "Visualization 1",
       "commandType": "auto",
       "commandVersion": 0,
       "commentThread": [],
       "commentsVisible": false,
       "contentSha256Hex": null,
       "customPlotOptions": {
        "redashChart": [
         {
          "key": "type",
          "value": "CHART"
         },
         {
          "key": "options",
          "value": {
           "alignYAxesAtZero": true,
           "coefficient": 1,
           "columnConfigurationMap": {
            "x": {
             "column": "item_name",
             "id": "column_32225e53165"
            },
            "y": [
             {
              "column": "price",
              "id": "column_32225e53167",
              "transform": "SUM"
             }
            ]
           },
           "dateTimeFormat": "DD/MM/YYYY HH:mm",
           "direction": {
            "type": "counterclockwise"
           },
           "error_y": {
            "type": "data",
            "visible": true
           },
           "globalSeriesType": "column",
           "isAggregationOn": true,
           "legend": {
            "traceorder": "normal"
           },
           "missingValuesAsZero": true,
           "numberFormat": "0,0.[00000]",
           "percentFormat": "0[.]00%",
           "reverseX": false,
           "series": {
            "error_y": {
             "type": "data",
             "visible": true
            },
            "percentValues": false,
            "stacking": ""
           },
           "seriesOptions": {
            "column_32225e53167": {
             "type": "column",
             "yAxis": 0
            }
           },
           "showDataLabels": false,
           "sizemode": "diameter",
           "sortX": true,
           "sortY": true,
           "swappedAxes": true,
           "textFormat": "",
           "useAggregationsUi": true,
           "valuesOptions": {},
           "version": 2,
           "xAxis": {
            "labels": {
             "enabled": true
            },
            "type": "-"
           },
           "yAxis": [
            {
             "type": "-"
            },
            {
             "opposite": true,
             "type": "-"
            }
           ]
          }
         }
        ]
       },
       "datasetPreviewNameToCmdIdMap": {},
       "diffDeletes": [],
       "diffInserts": [],
       "displayType": "redashChart",
       "error": null,
       "errorDetails": null,
       "errorSummary": null,
       "errorTraceType": null,
       "finishTime": 0,
       "globalVars": {},
       "guid": "",
       "height": "auto",
       "hideCommandCode": false,
       "hideCommandResult": false,
       "iPythonMetadata": null,
       "inputWidgets": {},
       "isLockedInExamMode": false,
       "latestUser": "a user",
       "latestUserId": null,
       "listResultMetadata": null,
       "metadata": {},
       "nuid": "b4c90438-33b1-4d18-a948-b84917e09169",
       "origId": 0,
       "parentHierarchy": [],
       "pivotAggregation": null,
       "pivotColumns": null,
       "position": 2.5,
       "resultDbfsErrorMessage": null,
       "resultDbfsStatus": "INLINED_IN_TREE",
       "results": null,
       "showCommandTitle": false,
       "startTime": 0,
       "state": "input",
       "streamStates": {},
       "subcommandOptions": {
        "queryPlan": {
         "groups": [
          {
           "column": "item_name",
           "type": "column"
          }
         ],
         "selects": [
          {
           "column": "item_name",
           "type": "column"
          },
          {
           "alias": "column_32225e53167",
           "args": [
            {
             "column": "price",
             "type": "column"
            }
           ],
           "function": "SUM",
           "type": "function"
          }
         ]
        }
       },
       "submitTime": 0,
       "subtype": "tableResultSubCmd.visualization",
       "tableResultIndex": 0,
       "tableResultSettingsMap": {},
       "useConsistentColors": false,
       "version": "CommandV1",
       "width": "auto",
       "workflows": [],
       "xColumns": null,
       "yColumns": null
      }
     },
     "output_type": "display_data"
    }
   ],
   "source": [
    "%sql\n",
    "-- 1. View the menu_items table \n",
    "SELECT * FROM menu_items;"
   ]
  },
  {
   "cell_type": "code",
   "execution_count": 0,
   "metadata": {
    "application/vnd.databricks.v1+cell": {
     "cellMetadata": {
      "byteLimit": 2048000,
      "rowLimit": 10000
     },
     "inputWidgets": {},
     "nuid": "7484844e-9585-4e8b-b1ad-789886e5d0ea",
     "showTitle": false,
     "tableResultSettingsMap": {},
     "title": ""
    }
   },
   "outputs": [
    {
     "output_type": "display_data",
     "data": {
      "text/html": [
       "<style scoped>\n",
       "  .table-result-container {\n",
       "    max-height: 300px;\n",
       "    overflow: auto;\n",
       "  }\n",
       "  table, th, td {\n",
       "    border: 1px solid black;\n",
       "    border-collapse: collapse;\n",
       "  }\n",
       "  th, td {\n",
       "    padding: 5px;\n",
       "  }\n",
       "  th {\n",
       "    text-align: left;\n",
       "  }\n",
       "</style><div class='table-result-container'><table class='table-result'><thead style='background-color: white'><tr><th>count(1)</th></tr></thead><tbody><tr><td>32</td></tr></tbody></table></div>"
      ]
     },
     "metadata": {
      "application/vnd.databricks.v1+output": {
       "addedWidgets": {},
       "aggData": [],
       "aggError": "",
       "aggOverflow": false,
       "aggSchema": [],
       "aggSeriesLimitReached": false,
       "aggType": "",
       "arguments": {},
       "columnCustomDisplayInfos": {},
       "data": [
        [
         32
        ]
       ],
       "datasetInfos": [],
       "dbfsResultPath": null,
       "isJsonSchema": true,
       "metadata": {
        "isDbfsCommandResult": false
       },
       "overflow": false,
       "plotOptions": {
        "customPlotOptions": {},
        "displayType": "table",
        "pivotAggregation": null,
        "pivotColumns": null,
        "xColumns": null,
        "yColumns": null
       },
       "removedWidgets": [],
       "schema": [
        {
         "metadata": "{\"__autoGeneratedAlias\":\"true\"}",
         "name": "count(1)",
         "type": "\"long\""
        }
       ],
       "type": "table"
      }
     },
     "output_type": "display_data"
    }
   ],
   "source": [
    "%sql\n",
    "-- 2. Find the number of items on the menu\n",
    "SELECT COUNT(1) FROM menu_items;"
   ]
  },
  {
   "cell_type": "code",
   "execution_count": 0,
   "metadata": {
    "application/vnd.databricks.v1+cell": {
     "cellMetadata": {
      "byteLimit": 2048000,
      "rowLimit": 10000
     },
     "inputWidgets": {},
     "nuid": "221f5bce-52ac-4ec4-be3d-b008c32fdb69",
     "showTitle": false,
     "tableResultSettingsMap": {},
     "title": ""
    }
   },
   "outputs": [
    {
     "output_type": "display_data",
     "data": {
      "text/html": [
       "<style scoped>\n",
       "  .table-result-container {\n",
       "    max-height: 300px;\n",
       "    overflow: auto;\n",
       "  }\n",
       "  table, th, td {\n",
       "    border: 1px solid black;\n",
       "    border-collapse: collapse;\n",
       "  }\n",
       "  th, td {\n",
       "    padding: 5px;\n",
       "  }\n",
       "  th {\n",
       "    text-align: left;\n",
       "  }\n",
       "</style><div class='table-result-container'><table class='table-result'><thead style='background-color: white'><tr><th>category</th><th>count(1)</th></tr></thead><tbody><tr><td>Mexican</td><td>9</td></tr><tr><td>Italian</td><td>9</td></tr><tr><td>Asian</td><td>8</td></tr><tr><td>American</td><td>6</td></tr></tbody></table></div>"
      ]
     },
     "metadata": {
      "application/vnd.databricks.v1+output": {
       "addedWidgets": {},
       "aggData": [],
       "aggError": "",
       "aggOverflow": false,
       "aggSchema": [],
       "aggSeriesLimitReached": false,
       "aggType": "",
       "arguments": {},
       "columnCustomDisplayInfos": {},
       "data": [
        [
         "Mexican",
         9
        ],
        [
         "Italian",
         9
        ],
        [
         "Asian",
         8
        ],
        [
         "American",
         6
        ]
       ],
       "datasetInfos": [],
       "dbfsResultPath": null,
       "isJsonSchema": true,
       "metadata": {
        "isDbfsCommandResult": false
       },
       "overflow": false,
       "plotOptions": {
        "customPlotOptions": {},
        "displayType": "table",
        "pivotAggregation": null,
        "pivotColumns": null,
        "xColumns": null,
        "yColumns": null
       },
       "removedWidgets": [],
       "schema": [
        {
         "metadata": "{}",
         "name": "category",
         "type": "\"string\""
        },
        {
         "metadata": "{\"__autoGeneratedAlias\":\"true\"}",
         "name": "count(1)",
         "type": "\"long\""
        }
       ],
       "type": "table"
      }
     },
     "output_type": "display_data"
    },
    {
     "output_type": "display_data",
     "data": {
      "text/plain": [
       "Databricks visualization. Run in Databricks to view."
      ]
     },
     "metadata": {
      "application/vnd.databricks.v1.subcommand+json": {
       "baseErrorDetails": null,
       "bindings": {},
       "collapsed": false,
       "command": "%sql WITH q AS (SELECT category, COUNT(1) FROM menu_items\nGROUP BY category) SELECT `category`,SUM(`count(1)`) `column_771f7dc799` FROM q GROUP BY `category`",
       "commandTitle": "Visualization 1",
       "commandType": "auto",
       "commandVersion": 0,
       "commentThread": [],
       "commentsVisible": false,
       "contentSha256Hex": null,
       "customPlotOptions": {
        "redashChart": [
         {
          "key": "type",
          "value": "CHART"
         },
         {
          "key": "options",
          "value": {
           "alignYAxesAtZero": true,
           "coefficient": 1,
           "columnConfigurationMap": {
            "x": {
             "column": "category",
             "id": "column_771f7dc798"
            },
            "y": [
             {
              "column": "count(1)",
              "id": "column_771f7dc799",
              "transform": "SUM"
             }
            ]
           },
           "dateTimeFormat": "DD/MM/YYYY HH:mm",
           "direction": {
            "type": "counterclockwise"
           },
           "error_y": {
            "type": "data",
            "visible": true
           },
           "globalSeriesType": "column",
           "isAggregationOn": true,
           "legend": {
            "traceorder": "normal"
           },
           "missingValuesAsZero": true,
           "numberFormat": "0,0.[00000]",
           "percentFormat": "0[.]00%",
           "reverseX": true,
           "series": {
            "error_y": {
             "type": "data",
             "visible": true
            },
            "stacking": null
           },
           "seriesOptions": {
            "column_771f7dc799": {
             "name": "count(1)",
             "type": "column",
             "yAxis": 0
            }
           },
           "showDataLabels": true,
           "sizemode": "diameter",
           "sortX": true,
           "sortY": true,
           "swappedAxes": true,
           "textFormat": "",
           "useAggregationsUi": true,
           "valuesOptions": {},
           "version": 2,
           "xAxis": {
            "labels": {
             "enabled": true
            },
            "type": "-"
           },
           "yAxis": [
            {
             "type": "-"
            },
            {
             "opposite": true,
             "type": "-"
            }
           ]
          }
         }
        ]
       },
       "datasetPreviewNameToCmdIdMap": {},
       "diffDeletes": [],
       "diffInserts": [],
       "displayType": "redashChart",
       "error": null,
       "errorDetails": null,
       "errorSummary": null,
       "errorTraceType": null,
       "finishTime": 0,
       "globalVars": {},
       "guid": "",
       "height": "auto",
       "hideCommandCode": false,
       "hideCommandResult": false,
       "iPythonMetadata": null,
       "inputWidgets": {},
       "isLockedInExamMode": false,
       "latestUser": "a user",
       "latestUserId": null,
       "listResultMetadata": null,
       "metadata": {},
       "nuid": "df97aa17-469b-4f83-81dc-12d5552a06f9",
       "origId": 0,
       "parentHierarchy": [],
       "pivotAggregation": null,
       "pivotColumns": null,
       "position": 2.875,
       "resultDbfsErrorMessage": null,
       "resultDbfsStatus": "INLINED_IN_TREE",
       "results": null,
       "showCommandTitle": false,
       "startTime": 0,
       "state": "input",
       "streamStates": {},
       "subcommandOptions": {
        "queryPlan": {
         "groups": [
          {
           "column": "category",
           "type": "column"
          }
         ],
         "selects": [
          {
           "column": "category",
           "type": "column"
          },
          {
           "alias": "column_771f7dc799",
           "args": [
            {
             "column": "count(1)",
             "type": "column"
            }
           ],
           "function": "SUM",
           "type": "function"
          }
         ]
        }
       },
       "submitTime": 0,
       "subtype": "tableResultSubCmd.visualization",
       "tableResultIndex": 0,
       "tableResultSettingsMap": {},
       "useConsistentColors": false,
       "version": "CommandV1",
       "width": "auto",
       "workflows": [],
       "xColumns": null,
       "yColumns": null
      }
     },
     "output_type": "display_data"
    }
   ],
   "source": [
    "%sql\n",
    "SELECT category, COUNT(1) FROM menu_items\n",
    "GROUP BY category;"
   ]
  },
  {
   "cell_type": "code",
   "execution_count": 0,
   "metadata": {
    "application/vnd.databricks.v1+cell": {
     "cellMetadata": {
      "byteLimit": 2048000,
      "rowLimit": 10000
     },
     "inputWidgets": {},
     "nuid": "24ca04dd-a816-4926-b107-b570daa16023",
     "showTitle": false,
     "tableResultSettingsMap": {},
     "title": ""
    }
   },
   "outputs": [
    {
     "output_type": "display_data",
     "data": {
      "text/html": [
       "<style scoped>\n",
       "  .table-result-container {\n",
       "    max-height: 300px;\n",
       "    overflow: auto;\n",
       "  }\n",
       "  table, th, td {\n",
       "    border: 1px solid black;\n",
       "    border-collapse: collapse;\n",
       "  }\n",
       "  th, td {\n",
       "    padding: 5px;\n",
       "  }\n",
       "  th {\n",
       "    text-align: left;\n",
       "  }\n",
       "</style><div class='table-result-container'><table class='table-result'><thead style='background-color: white'><tr><th>menu_item_id</th><th>item_name</th><th>category</th><th>price</th></tr></thead><tbody><tr><td>113</td><td>Edamame</td><td>Asian</td><td>5.0</td></tr><tr><td>106</td><td>French Fries</td><td>American</td><td>7.0</td></tr><tr><td>105</td><td>Mac & Cheese</td><td>American</td><td>7.0</td></tr><tr><td>122</td><td>Chips & Salsa</td><td>Mexican</td><td>7.0</td></tr><tr><td>103</td><td>Hot Dog</td><td>American</td><td>9.0</td></tr></tbody></table></div>"
      ]
     },
     "metadata": {
      "application/vnd.databricks.v1+output": {
       "addedWidgets": {},
       "aggData": [],
       "aggError": "",
       "aggOverflow": false,
       "aggSchema": [],
       "aggSeriesLimitReached": false,
       "aggType": "",
       "arguments": {},
       "columnCustomDisplayInfos": {},
       "data": [
        [
         113,
         "Edamame",
         "Asian",
         5.0
        ],
        [
         106,
         "French Fries",
         "American",
         7.0
        ],
        [
         105,
         "Mac & Cheese",
         "American",
         7.0
        ],
        [
         122,
         "Chips & Salsa",
         "Mexican",
         7.0
        ],
        [
         103,
         "Hot Dog",
         "American",
         9.0
        ]
       ],
       "datasetInfos": [],
       "dbfsResultPath": null,
       "isJsonSchema": true,
       "metadata": {
        "isDbfsCommandResult": false
       },
       "overflow": false,
       "plotOptions": {
        "customPlotOptions": {},
        "displayType": "table",
        "pivotAggregation": null,
        "pivotColumns": null,
        "xColumns": null,
        "yColumns": null
       },
       "removedWidgets": [],
       "schema": [
        {
         "metadata": "{}",
         "name": "menu_item_id",
         "type": "\"integer\""
        },
        {
         "metadata": "{}",
         "name": "item_name",
         "type": "\"string\""
        },
        {
         "metadata": "{}",
         "name": "category",
         "type": "\"string\""
        },
        {
         "metadata": "{}",
         "name": "price",
         "type": "\"float\""
        }
       ],
       "type": "table"
      }
     },
     "output_type": "display_data"
    },
    {
     "output_type": "display_data",
     "data": {
      "text/plain": [
       "Databricks visualization. Run in Databricks to view."
      ]
     },
     "metadata": {
      "application/vnd.databricks.v1.subcommand+json": {
       "baseErrorDetails": null,
       "bindings": {},
       "collapsed": false,
       "command": "%sql WITH q AS (SELECT * FROM menu_items\nORDER BY price\nLIMIT 5) SELECT `item_name`,SUM(`price`) `column_771f7dc7109`,`category` FROM q GROUP BY `category`,`item_name`",
       "commandTitle": "Visualization 1",
       "commandType": "auto",
       "commandVersion": 0,
       "commentThread": [],
       "commentsVisible": false,
       "contentSha256Hex": null,
       "customPlotOptions": {
        "redashChart": [
         {
          "key": "type",
          "value": "CHART"
         },
         {
          "key": "options",
          "value": {
           "alignYAxesAtZero": true,
           "coefficient": 1,
           "columnConfigurationMap": {
            "series": {
             "column": "category",
             "id": "column_771f7dc7111"
            },
            "x": {
             "column": "item_name",
             "id": "column_771f7dc7107"
            },
            "y": [
             {
              "column": "price",
              "id": "column_771f7dc7109",
              "transform": "SUM"
             }
            ]
           },
           "dateTimeFormat": "DD/MM/YYYY HH:mm",
           "direction": {
            "type": "counterclockwise"
           },
           "error_y": {
            "type": "data",
            "visible": true
           },
           "globalSeriesType": "column",
           "isAggregationOn": true,
           "legend": {
            "traceorder": "normal"
           },
           "missingValuesAsZero": true,
           "numberFormat": "0,0.[00000]",
           "percentFormat": "0[.]00%",
           "reverseX": false,
           "series": {
            "error_y": {
             "type": "data",
             "visible": true
            },
            "stacking": null
           },
           "seriesOptions": {
            "American": {
             "yAxis": 0
            },
            "column_771f7dc7109": {
             "type": "column",
             "yAxis": 0
            }
           },
           "showDataLabels": true,
           "sizemode": "diameter",
           "sortX": false,
           "sortY": true,
           "swappedAxes": false,
           "textFormat": "",
           "useAggregationsUi": true,
           "valuesOptions": {},
           "version": 2,
           "xAxis": {
            "labels": {
             "enabled": true
            },
            "type": "-"
           },
           "yAxis": [
            {
             "type": "-"
            },
            {
             "opposite": true,
             "type": "-"
            }
           ]
          }
         }
        ]
       },
       "datasetPreviewNameToCmdIdMap": {},
       "diffDeletes": [],
       "diffInserts": [],
       "displayType": "redashChart",
       "error": null,
       "errorDetails": null,
       "errorSummary": null,
       "errorTraceType": null,
       "finishTime": 0,
       "globalVars": {},
       "guid": "",
       "height": "auto",
       "hideCommandCode": false,
       "hideCommandResult": false,
       "iPythonMetadata": null,
       "inputWidgets": {},
       "isLockedInExamMode": false,
       "latestUser": "a user",
       "latestUserId": null,
       "listResultMetadata": null,
       "metadata": {},
       "nuid": "ff283829-b238-4b51-92a8-fa5213359441",
       "origId": 0,
       "parentHierarchy": [],
       "pivotAggregation": null,
       "pivotColumns": null,
       "position": 2.9375,
       "resultDbfsErrorMessage": null,
       "resultDbfsStatus": "INLINED_IN_TREE",
       "results": null,
       "showCommandTitle": false,
       "startTime": 0,
       "state": "input",
       "streamStates": {},
       "subcommandOptions": {
        "queryPlan": {
         "groups": [
          {
           "column": "item_name",
           "type": "column"
          },
          {
           "column": "category",
           "type": "column"
          }
         ],
         "selects": [
          {
           "column": "item_name",
           "type": "column"
          },
          {
           "alias": "column_771f7dc7109",
           "args": [
            {
             "column": "price",
             "type": "column"
            }
           ],
           "function": "SUM",
           "type": "function"
          },
          {
           "column": "category",
           "type": "column"
          }
         ]
        }
       },
       "submitTime": 0,
       "subtype": "tableResultSubCmd.visualization",
       "tableResultIndex": 0,
       "tableResultSettingsMap": {},
       "useConsistentColors": false,
       "version": "CommandV1",
       "width": "auto",
       "workflows": [],
       "xColumns": null,
       "yColumns": null
      }
     },
     "output_type": "display_data"
    }
   ],
   "source": [
    "%sql\n",
    "-- 3. What are the most and least expensive items on the menu\n",
    "\n",
    "-- Least expensive\n",
    "SELECT * FROM menu_items\n",
    "ORDER BY price\n",
    "LIMIT 5;"
   ]
  },
  {
   "cell_type": "code",
   "execution_count": 0,
   "metadata": {
    "application/vnd.databricks.v1+cell": {
     "cellMetadata": {
      "byteLimit": 2048000,
      "rowLimit": 10000
     },
     "inputWidgets": {},
     "nuid": "1b117ba0-8fb6-40b4-a1e0-795fb11f55a1",
     "showTitle": false,
     "tableResultSettingsMap": {},
     "title": ""
    }
   },
   "outputs": [
    {
     "output_type": "display_data",
     "data": {
      "text/html": [
       "<style scoped>\n",
       "  .table-result-container {\n",
       "    max-height: 300px;\n",
       "    overflow: auto;\n",
       "  }\n",
       "  table, th, td {\n",
       "    border: 1px solid black;\n",
       "    border-collapse: collapse;\n",
       "  }\n",
       "  th, td {\n",
       "    padding: 5px;\n",
       "  }\n",
       "  th {\n",
       "    text-align: left;\n",
       "  }\n",
       "</style><div class='table-result-container'><table class='table-result'><thead style='background-color: white'><tr><th>menu_item_id</th><th>item_name</th><th>category</th><th>price</th></tr></thead><tbody><tr><td>130</td><td>Shrimp Scampi</td><td>Italian</td><td>19.95</td></tr><tr><td>131</td><td>Chicken Parmesan</td><td>Italian</td><td>17.95</td></tr><tr><td>110</td><td>Pork Ramen</td><td>Asian</td><td>17.95</td></tr><tr><td>127</td><td>Meat Lasagna</td><td>Italian</td><td>17.95</td></tr><tr><td>125</td><td>Spaghetti & Meatballs</td><td>Italian</td><td>17.95</td></tr></tbody></table></div>"
      ]
     },
     "metadata": {
      "application/vnd.databricks.v1+output": {
       "addedWidgets": {},
       "aggData": [],
       "aggError": "",
       "aggOverflow": false,
       "aggSchema": [],
       "aggSeriesLimitReached": false,
       "aggType": "",
       "arguments": {},
       "columnCustomDisplayInfos": {},
       "data": [
        [
         130,
         "Shrimp Scampi",
         "Italian",
         19.95
        ],
        [
         131,
         "Chicken Parmesan",
         "Italian",
         17.95
        ],
        [
         110,
         "Pork Ramen",
         "Asian",
         17.95
        ],
        [
         127,
         "Meat Lasagna",
         "Italian",
         17.95
        ],
        [
         125,
         "Spaghetti & Meatballs",
         "Italian",
         17.95
        ]
       ],
       "datasetInfos": [],
       "dbfsResultPath": null,
       "isJsonSchema": true,
       "metadata": {
        "isDbfsCommandResult": false
       },
       "overflow": false,
       "plotOptions": {
        "customPlotOptions": {},
        "displayType": "table",
        "pivotAggregation": null,
        "pivotColumns": null,
        "xColumns": null,
        "yColumns": null
       },
       "removedWidgets": [],
       "schema": [
        {
         "metadata": "{}",
         "name": "menu_item_id",
         "type": "\"integer\""
        },
        {
         "metadata": "{}",
         "name": "item_name",
         "type": "\"string\""
        },
        {
         "metadata": "{}",
         "name": "category",
         "type": "\"string\""
        },
        {
         "metadata": "{}",
         "name": "price",
         "type": "\"float\""
        }
       ],
       "type": "table"
      }
     },
     "output_type": "display_data"
    },
    {
     "output_type": "display_data",
     "data": {
      "text/plain": [
       "Databricks visualization. Run in Databricks to view."
      ]
     },
     "metadata": {
      "application/vnd.databricks.v1.subcommand+json": {
       "baseErrorDetails": null,
       "bindings": {},
       "collapsed": false,
       "command": "%sql WITH q AS (SELECT * FROM menu_items\nORDER BY price DESC\nLIMIT 5) SELECT `item_name`,SUM(`price`) `column_771f7dc7114`,`category` FROM q GROUP BY `category`,`item_name`",
       "commandTitle": "Visualization 1",
       "commandType": "auto",
       "commandVersion": 0,
       "commentThread": [],
       "commentsVisible": false,
       "contentSha256Hex": null,
       "customPlotOptions": {
        "redashChart": [
         {
          "key": "type",
          "value": "CHART"
         },
         {
          "key": "options",
          "value": {
           "alignYAxesAtZero": true,
           "coefficient": 1,
           "columnConfigurationMap": {
            "series": {
             "column": "category",
             "id": "column_771f7dc7116"
            },
            "x": {
             "column": "item_name",
             "id": "column_771f7dc7112"
            },
            "y": [
             {
              "column": "price",
              "id": "column_771f7dc7114",
              "transform": "SUM"
             }
            ]
           },
           "dateTimeFormat": "DD/MM/YYYY HH:mm",
           "direction": {
            "type": "counterclockwise"
           },
           "error_y": {
            "type": "data",
            "visible": true
           },
           "globalSeriesType": "column",
           "isAggregationOn": true,
           "legend": {
            "traceorder": "normal"
           },
           "missingValuesAsZero": true,
           "numberFormat": "0,0.[00000]",
           "percentFormat": "0[.]00%",
           "reverseX": false,
           "series": {
            "error_y": {
             "type": "data",
             "visible": true
            },
            "stacking": null
           },
           "seriesOptions": {
            "Asian": {
             "color": "#E92828"
            },
            "Italian": {
             "color": "#356AFF"
            },
            "column_771f7dc7114": {
             "type": "column",
             "yAxis": 0
            }
           },
           "showDataLabels": true,
           "sizemode": "diameter",
           "sortX": false,
           "sortY": true,
           "swappedAxes": true,
           "textFormat": "",
           "useAggregationsUi": true,
           "valuesOptions": {},
           "version": 2,
           "xAxis": {
            "labels": {
             "enabled": true
            },
            "type": "-"
           },
           "yAxis": [
            {
             "type": "-"
            },
            {
             "opposite": true,
             "type": "-"
            }
           ]
          }
         }
        ]
       },
       "datasetPreviewNameToCmdIdMap": {},
       "diffDeletes": [],
       "diffInserts": [],
       "displayType": "redashChart",
       "error": null,
       "errorDetails": null,
       "errorSummary": null,
       "errorTraceType": null,
       "finishTime": 0,
       "globalVars": {},
       "guid": "",
       "height": "auto",
       "hideCommandCode": false,
       "hideCommandResult": false,
       "iPythonMetadata": null,
       "inputWidgets": {},
       "isLockedInExamMode": false,
       "latestUser": "a user",
       "latestUserId": null,
       "listResultMetadata": null,
       "metadata": {},
       "nuid": "fe012b42-f163-45b0-accd-060624b400af",
       "origId": 0,
       "parentHierarchy": [],
       "pivotAggregation": null,
       "pivotColumns": null,
       "position": 3.0,
       "resultDbfsErrorMessage": null,
       "resultDbfsStatus": "INLINED_IN_TREE",
       "results": null,
       "showCommandTitle": false,
       "startTime": 0,
       "state": "input",
       "streamStates": {},
       "subcommandOptions": {
        "queryPlan": {
         "groups": [
          {
           "column": "item_name",
           "type": "column"
          },
          {
           "column": "category",
           "type": "column"
          }
         ],
         "selects": [
          {
           "column": "item_name",
           "type": "column"
          },
          {
           "alias": "column_771f7dc7114",
           "args": [
            {
             "column": "price",
             "type": "column"
            }
           ],
           "function": "SUM",
           "type": "function"
          },
          {
           "column": "category",
           "type": "column"
          }
         ]
        }
       },
       "submitTime": 0,
       "subtype": "tableResultSubCmd.visualization",
       "tableResultIndex": 0,
       "tableResultSettingsMap": {},
       "useConsistentColors": false,
       "version": "CommandV1",
       "width": "auto",
       "workflows": [],
       "xColumns": null,
       "yColumns": null
      }
     },
     "output_type": "display_data"
    }
   ],
   "source": [
    "%sql\n",
    "-- Most expensive\n",
    "SELECT * FROM menu_items\n",
    "ORDER BY price DESC\n",
    "LIMIT 5;\n"
   ]
  },
  {
   "cell_type": "code",
   "execution_count": 0,
   "metadata": {
    "application/vnd.databricks.v1+cell": {
     "cellMetadata": {
      "byteLimit": 2048000,
      "rowLimit": 10000
     },
     "inputWidgets": {},
     "nuid": "7c271045-b0ec-4fc8-bcbe-09254896d408",
     "showTitle": false,
     "tableResultSettingsMap": {},
     "title": ""
    }
   },
   "outputs": [
    {
     "output_type": "display_data",
     "data": {
      "text/html": [
       "<style scoped>\n",
       "  .table-result-container {\n",
       "    max-height: 300px;\n",
       "    overflow: auto;\n",
       "  }\n",
       "  table, th, td {\n",
       "    border: 1px solid black;\n",
       "    border-collapse: collapse;\n",
       "  }\n",
       "  th, td {\n",
       "    padding: 5px;\n",
       "  }\n",
       "  th {\n",
       "    text-align: left;\n",
       "  }\n",
       "</style><div class='table-result-container'><table class='table-result'><thead style='background-color: white'><tr><th>count(item_name)</th></tr></thead><tbody><tr><td>9</td></tr></tbody></table></div>"
      ]
     },
     "metadata": {
      "application/vnd.databricks.v1+output": {
       "addedWidgets": {},
       "aggData": [],
       "aggError": "",
       "aggOverflow": false,
       "aggSchema": [],
       "aggSeriesLimitReached": false,
       "aggType": "",
       "arguments": {},
       "columnCustomDisplayInfos": {},
       "data": [
        [
         9
        ]
       ],
       "datasetInfos": [],
       "dbfsResultPath": null,
       "isJsonSchema": true,
       "metadata": {
        "isDbfsCommandResult": false
       },
       "overflow": false,
       "plotOptions": {
        "customPlotOptions": {},
        "displayType": "table",
        "pivotAggregation": null,
        "pivotColumns": null,
        "xColumns": null,
        "yColumns": null
       },
       "removedWidgets": [],
       "schema": [
        {
         "metadata": "{\"__autoGeneratedAlias\":\"true\"}",
         "name": "count(item_name)",
         "type": "\"long\""
        }
       ],
       "type": "table"
      }
     },
     "output_type": "display_data"
    }
   ],
   "source": [
    "%sql\n",
    "-- 4. How many Italian dishes are on the menu \n",
    "SELECT COUNT(item_name) FROM menu_items\n",
    "WHERE category = \"Italian\";"
   ]
  },
  {
   "cell_type": "code",
   "execution_count": 0,
   "metadata": {
    "application/vnd.databricks.v1+cell": {
     "cellMetadata": {
      "byteLimit": 2048000,
      "rowLimit": 10000
     },
     "inputWidgets": {},
     "nuid": "2a0e8573-7c29-47b2-8852-a63f0ec8c3d3",
     "showTitle": false,
     "tableResultSettingsMap": {},
     "title": ""
    }
   },
   "outputs": [
    {
     "output_type": "display_data",
     "data": {
      "text/html": [
       "<style scoped>\n",
       "  .table-result-container {\n",
       "    max-height: 300px;\n",
       "    overflow: auto;\n",
       "  }\n",
       "  table, th, td {\n",
       "    border: 1px solid black;\n",
       "    border-collapse: collapse;\n",
       "  }\n",
       "  th, td {\n",
       "    padding: 5px;\n",
       "  }\n",
       "  th {\n",
       "    text-align: left;\n",
       "  }\n",
       "</style><div class='table-result-container'><table class='table-result'><thead style='background-color: white'><tr><th>item_name</th><th>category</th><th>price</th></tr></thead><tbody><tr><td>Shrimp Scampi</td><td>Italian</td><td>19.95</td></tr><tr><td>Spaghetti & Meatballs</td><td>Italian</td><td>17.95</td></tr><tr><td>Meat Lasagna</td><td>Italian</td><td>17.95</td></tr><tr><td>Chicken Parmesan</td><td>Italian</td><td>17.95</td></tr><tr><td>Eggplant Parmesan</td><td>Italian</td><td>16.95</td></tr><tr><td>Cheese Lasagna</td><td>Italian</td><td>15.5</td></tr><tr><td>Mushroom Ravioli</td><td>Italian</td><td>15.5</td></tr><tr><td>Spaghetti</td><td>Italian</td><td>14.5</td></tr><tr><td>Fettuccine Alfredo</td><td>Italian</td><td>14.5</td></tr></tbody></table></div>"
      ]
     },
     "metadata": {
      "application/vnd.databricks.v1+output": {
       "addedWidgets": {},
       "aggData": [],
       "aggError": "",
       "aggOverflow": false,
       "aggSchema": [],
       "aggSeriesLimitReached": false,
       "aggType": "",
       "arguments": {},
       "columnCustomDisplayInfos": {},
       "data": [
        [
         "Shrimp Scampi",
         "Italian",
         19.95
        ],
        [
         "Spaghetti & Meatballs",
         "Italian",
         17.95
        ],
        [
         "Meat Lasagna",
         "Italian",
         17.95
        ],
        [
         "Chicken Parmesan",
         "Italian",
         17.95
        ],
        [
         "Eggplant Parmesan",
         "Italian",
         16.95
        ],
        [
         "Cheese Lasagna",
         "Italian",
         15.5
        ],
        [
         "Mushroom Ravioli",
         "Italian",
         15.5
        ],
        [
         "Spaghetti",
         "Italian",
         14.5
        ],
        [
         "Fettuccine Alfredo",
         "Italian",
         14.5
        ]
       ],
       "datasetInfos": [],
       "dbfsResultPath": null,
       "isJsonSchema": true,
       "metadata": {
        "isDbfsCommandResult": false
       },
       "overflow": false,
       "plotOptions": {
        "customPlotOptions": {},
        "displayType": "table",
        "pivotAggregation": null,
        "pivotColumns": null,
        "xColumns": null,
        "yColumns": null
       },
       "removedWidgets": [],
       "schema": [
        {
         "metadata": "{}",
         "name": "item_name",
         "type": "\"string\""
        },
        {
         "metadata": "{}",
         "name": "category",
         "type": "\"string\""
        },
        {
         "metadata": "{}",
         "name": "price",
         "type": "\"float\""
        }
       ],
       "type": "table"
      }
     },
     "output_type": "display_data"
    },
    {
     "output_type": "display_data",
     "data": {
      "text/plain": [
       "Databricks visualization. Run in Databricks to view."
      ]
     },
     "metadata": {
      "application/vnd.databricks.v1.subcommand+json": {
       "baseErrorDetails": null,
       "bindings": {},
       "collapsed": false,
       "command": "%sql WITH q AS (SELECT item_name, category, price FROM menu_items\nWHERE category = \"Italian\"\nORDER BY price DESC) SELECT `item_name`,`category`,SUM(`price`) `column_771f7dc7119` FROM q GROUP BY `category`,`item_name`",
       "commandTitle": "Visualization 1",
       "commandType": "auto",
       "commandVersion": 0,
       "commentThread": [],
       "commentsVisible": false,
       "contentSha256Hex": null,
       "customPlotOptions": {
        "redashChart": [
         {
          "key": "type",
          "value": "CHART"
         },
         {
          "key": "options",
          "value": {
           "alignYAxesAtZero": true,
           "coefficient": 1,
           "columnConfigurationMap": {
            "series": {
             "column": "category",
             "id": "column_771f7dc7118"
            },
            "x": {
             "column": "item_name",
             "id": "column_771f7dc7117"
            },
            "y": [
             {
              "column": "price",
              "id": "column_771f7dc7119",
              "transform": "SUM"
             }
            ]
           },
           "dateTimeFormat": "DD/MM/YYYY HH:mm",
           "direction": {
            "type": "counterclockwise"
           },
           "error_y": {
            "type": "data",
            "visible": true
           },
           "globalSeriesType": "column",
           "isAggregationOn": true,
           "legend": {
            "traceorder": "normal"
           },
           "missingValuesAsZero": true,
           "numberFormat": "0,0.[00000]",
           "percentFormat": "0[.]00%",
           "series": {
            "error_y": {
             "type": "data",
             "visible": true
            },
            "stacking": "stack"
           },
           "seriesOptions": {
            "column_771f7dc7119": {
             "name": "price",
             "yAxis": 0
            }
           },
           "showDataLabels": true,
           "sizemode": "diameter",
           "sortX": false,
           "sortY": true,
           "swappedAxes": true,
           "textFormat": "",
           "useAggregationsUi": true,
           "valuesOptions": {},
           "version": 2,
           "xAxis": {
            "labels": {
             "enabled": true
            },
            "type": "-"
           },
           "yAxis": [
            {
             "type": "-"
            },
            {
             "opposite": true,
             "type": "-"
            }
           ]
          }
         }
        ]
       },
       "datasetPreviewNameToCmdIdMap": {},
       "diffDeletes": [],
       "diffInserts": [],
       "displayType": "redashChart",
       "error": null,
       "errorDetails": null,
       "errorSummary": null,
       "errorTraceType": null,
       "finishTime": 0,
       "globalVars": {},
       "guid": "",
       "height": "auto",
       "hideCommandCode": false,
       "hideCommandResult": false,
       "iPythonMetadata": null,
       "inputWidgets": {},
       "isLockedInExamMode": false,
       "latestUser": "a user",
       "latestUserId": null,
       "listResultMetadata": null,
       "metadata": {},
       "nuid": "ad979df5-0a4a-4199-b62e-3775ff3248ea",
       "origId": 0,
       "parentHierarchy": [],
       "pivotAggregation": null,
       "pivotColumns": null,
       "position": 5.0,
       "resultDbfsErrorMessage": null,
       "resultDbfsStatus": "INLINED_IN_TREE",
       "results": null,
       "showCommandTitle": false,
       "startTime": 0,
       "state": "input",
       "streamStates": {},
       "subcommandOptions": {
        "queryPlan": {
         "groups": [
          {
           "column": "item_name",
           "type": "column"
          },
          {
           "column": "category",
           "type": "column"
          }
         ],
         "selects": [
          {
           "column": "item_name",
           "type": "column"
          },
          {
           "column": "category",
           "type": "column"
          },
          {
           "alias": "column_771f7dc7119",
           "args": [
            {
             "column": "price",
             "type": "column"
            }
           ],
           "function": "SUM",
           "type": "function"
          }
         ]
        }
       },
       "submitTime": 0,
       "subtype": "tableResultSubCmd.visualization",
       "tableResultIndex": 0,
       "tableResultSettingsMap": {},
       "useConsistentColors": false,
       "version": "CommandV1",
       "width": "auto",
       "workflows": [],
       "xColumns": null,
       "yColumns": null
      }
     },
     "output_type": "display_data"
    }
   ],
   "source": [
    "%sql\n",
    "-- 5. What are the most and least expensive Italian dishes on the \n",
    "\n",
    "-- Most expensive\n",
    "SELECT item_name, category, price FROM menu_items\n",
    "WHERE category = \"Italian\"\n",
    "ORDER BY price DESC;"
   ]
  },
  {
   "cell_type": "code",
   "execution_count": 0,
   "metadata": {
    "application/vnd.databricks.v1+cell": {
     "cellMetadata": {
      "byteLimit": 2048000,
      "rowLimit": 10000
     },
     "inputWidgets": {},
     "nuid": "b8ee8555-5688-4279-8fa3-0813c319de6a",
     "showTitle": false,
     "tableResultSettingsMap": {},
     "title": ""
    }
   },
   "outputs": [
    {
     "output_type": "display_data",
     "data": {
      "text/html": [
       "<style scoped>\n",
       "  .table-result-container {\n",
       "    max-height: 300px;\n",
       "    overflow: auto;\n",
       "  }\n",
       "  table, th, td {\n",
       "    border: 1px solid black;\n",
       "    border-collapse: collapse;\n",
       "  }\n",
       "  th, td {\n",
       "    padding: 5px;\n",
       "  }\n",
       "  th {\n",
       "    text-align: left;\n",
       "  }\n",
       "</style><div class='table-result-container'><table class='table-result'><thead style='background-color: white'><tr><th>item_name</th><th>category</th><th>price</th></tr></thead><tbody><tr><td>Spaghetti</td><td>Italian</td><td>14.5</td></tr><tr><td>Fettuccine Alfredo</td><td>Italian</td><td>14.5</td></tr><tr><td>Cheese Lasagna</td><td>Italian</td><td>15.5</td></tr><tr><td>Mushroom Ravioli</td><td>Italian</td><td>15.5</td></tr><tr><td>Eggplant Parmesan</td><td>Italian</td><td>16.95</td></tr><tr><td>Spaghetti & Meatballs</td><td>Italian</td><td>17.95</td></tr><tr><td>Meat Lasagna</td><td>Italian</td><td>17.95</td></tr><tr><td>Chicken Parmesan</td><td>Italian</td><td>17.95</td></tr><tr><td>Shrimp Scampi</td><td>Italian</td><td>19.95</td></tr></tbody></table></div>"
      ]
     },
     "metadata": {
      "application/vnd.databricks.v1+output": {
       "addedWidgets": {},
       "aggData": [],
       "aggError": "",
       "aggOverflow": false,
       "aggSchema": [],
       "aggSeriesLimitReached": false,
       "aggType": "",
       "arguments": {},
       "columnCustomDisplayInfos": {},
       "data": [
        [
         "Spaghetti",
         "Italian",
         14.5
        ],
        [
         "Fettuccine Alfredo",
         "Italian",
         14.5
        ],
        [
         "Cheese Lasagna",
         "Italian",
         15.5
        ],
        [
         "Mushroom Ravioli",
         "Italian",
         15.5
        ],
        [
         "Eggplant Parmesan",
         "Italian",
         16.95
        ],
        [
         "Spaghetti & Meatballs",
         "Italian",
         17.95
        ],
        [
         "Meat Lasagna",
         "Italian",
         17.95
        ],
        [
         "Chicken Parmesan",
         "Italian",
         17.95
        ],
        [
         "Shrimp Scampi",
         "Italian",
         19.95
        ]
       ],
       "datasetInfos": [],
       "dbfsResultPath": null,
       "isJsonSchema": true,
       "metadata": {
        "isDbfsCommandResult": false
       },
       "overflow": false,
       "plotOptions": {
        "customPlotOptions": {},
        "displayType": "table",
        "pivotAggregation": null,
        "pivotColumns": null,
        "xColumns": null,
        "yColumns": null
       },
       "removedWidgets": [],
       "schema": [
        {
         "metadata": "{}",
         "name": "item_name",
         "type": "\"string\""
        },
        {
         "metadata": "{}",
         "name": "category",
         "type": "\"string\""
        },
        {
         "metadata": "{}",
         "name": "price",
         "type": "\"float\""
        }
       ],
       "type": "table"
      }
     },
     "output_type": "display_data"
    },
    {
     "output_type": "display_data",
     "data": {
      "text/plain": [
       "Databricks visualization. Run in Databricks to view."
      ]
     },
     "metadata": {
      "application/vnd.databricks.v1.subcommand+json": {
       "baseErrorDetails": null,
       "bindings": {},
       "collapsed": false,
       "command": "%sql WITH q AS (SELECT item_name, category, price FROM menu_items\nWHERE category = \"Italian\"\nORDER BY price) SELECT `item_name`,`category`,SUM(`price`) `column_771f7dc7128` FROM q GROUP BY `category`,`item_name`",
       "commandTitle": "Visualization 1",
       "commandType": "auto",
       "commandVersion": 0,
       "commentThread": [],
       "commentsVisible": false,
       "contentSha256Hex": null,
       "customPlotOptions": {
        "redashChart": [
         {
          "key": "type",
          "value": "CHART"
         },
         {
          "key": "options",
          "value": {
           "alignYAxesAtZero": true,
           "coefficient": 1,
           "columnConfigurationMap": {
            "series": {
             "column": "category",
             "id": "column_771f7dc7127"
            },
            "x": {
             "column": "item_name",
             "id": "column_771f7dc7126"
            },
            "y": [
             {
              "column": "price",
              "id": "column_771f7dc7128",
              "transform": "SUM"
             }
            ]
           },
           "dateTimeFormat": "DD/MM/YYYY HH:mm",
           "direction": {
            "type": "counterclockwise"
           },
           "error_y": {
            "type": "data",
            "visible": true
           },
           "globalSeriesType": "column",
           "isAggregationOn": true,
           "legend": {
            "traceorder": "normal"
           },
           "missingValuesAsZero": true,
           "numberFormat": "0,0.[00000]",
           "percentFormat": "0[.]00%",
           "series": {
            "error_y": {
             "type": "data",
             "visible": true
            },
            "stacking": "stack"
           },
           "seriesOptions": {
            "column_771f7dc7128": {
             "name": "price",
             "yAxis": 0
            }
           },
           "showDataLabels": true,
           "sizemode": "diameter",
           "sortX": false,
           "sortY": true,
           "swappedAxes": true,
           "textFormat": "",
           "useAggregationsUi": true,
           "valuesOptions": {},
           "version": 2,
           "xAxis": {
            "labels": {
             "enabled": true
            },
            "type": "-"
           },
           "yAxis": [
            {
             "type": "-"
            },
            {
             "opposite": true,
             "type": "-"
            }
           ]
          }
         }
        ]
       },
       "datasetPreviewNameToCmdIdMap": {},
       "diffDeletes": [],
       "diffInserts": [],
       "displayType": "redashChart",
       "error": null,
       "errorDetails": null,
       "errorSummary": null,
       "errorTraceType": null,
       "finishTime": 0,
       "globalVars": {},
       "guid": "",
       "height": "auto",
       "hideCommandCode": false,
       "hideCommandResult": false,
       "iPythonMetadata": null,
       "inputWidgets": {},
       "isLockedInExamMode": false,
       "latestUser": "a user",
       "latestUserId": null,
       "listResultMetadata": null,
       "metadata": {},
       "nuid": "38d46d17-fe92-4038-9aec-3abc650777ef",
       "origId": 0,
       "parentHierarchy": [],
       "pivotAggregation": null,
       "pivotColumns": null,
       "position": 5.5,
       "resultDbfsErrorMessage": null,
       "resultDbfsStatus": "INLINED_IN_TREE",
       "results": null,
       "showCommandTitle": false,
       "startTime": 0,
       "state": "input",
       "streamStates": {},
       "subcommandOptions": {
        "queryPlan": {
         "groups": [
          {
           "column": "item_name",
           "type": "column"
          },
          {
           "column": "category",
           "type": "column"
          }
         ],
         "selects": [
          {
           "column": "item_name",
           "type": "column"
          },
          {
           "column": "category",
           "type": "column"
          },
          {
           "alias": "column_771f7dc7128",
           "args": [
            {
             "column": "price",
             "type": "column"
            }
           ],
           "function": "SUM",
           "type": "function"
          }
         ]
        }
       },
       "submitTime": 0,
       "subtype": "tableResultSubCmd.visualization",
       "tableResultIndex": 0,
       "tableResultSettingsMap": {},
       "useConsistentColors": false,
       "version": "CommandV1",
       "width": "auto",
       "workflows": [],
       "xColumns": null,
       "yColumns": null
      }
     },
     "output_type": "display_data"
    }
   ],
   "source": [
    "%sql\n",
    "-- Least expensive\n",
    "SELECT item_name, category, price FROM menu_items\n",
    "WHERE category = \"Italian\"\n",
    "ORDER BY price;"
   ]
  },
  {
   "cell_type": "code",
   "execution_count": 0,
   "metadata": {
    "application/vnd.databricks.v1+cell": {
     "cellMetadata": {
      "byteLimit": 2048000,
      "rowLimit": 10000
     },
     "inputWidgets": {},
     "nuid": "30056335-32bb-45bb-b27a-c6e4bd79bbab",
     "showTitle": false,
     "tableResultSettingsMap": {},
     "title": ""
    }
   },
   "outputs": [
    {
     "output_type": "display_data",
     "data": {
      "text/html": [
       "<style scoped>\n",
       "  .table-result-container {\n",
       "    max-height: 300px;\n",
       "    overflow: auto;\n",
       "  }\n",
       "  table, th, td {\n",
       "    border: 1px solid black;\n",
       "    border-collapse: collapse;\n",
       "  }\n",
       "  th, td {\n",
       "    padding: 5px;\n",
       "  }\n",
       "  th {\n",
       "    text-align: left;\n",
       "  }\n",
       "</style><div class='table-result-container'><table class='table-result'><thead style='background-color: white'><tr><th>category</th><th>count(category)</th></tr></thead><tbody><tr><td>Mexican</td><td>9</td></tr><tr><td>Italian</td><td>9</td></tr><tr><td>Asian</td><td>8</td></tr><tr><td>American</td><td>6</td></tr></tbody></table></div>"
      ]
     },
     "metadata": {
      "application/vnd.databricks.v1+output": {
       "addedWidgets": {},
       "aggData": [],
       "aggError": "",
       "aggOverflow": false,
       "aggSchema": [],
       "aggSeriesLimitReached": false,
       "aggType": "",
       "arguments": {},
       "columnCustomDisplayInfos": {},
       "data": [
        [
         "Mexican",
         9
        ],
        [
         "Italian",
         9
        ],
        [
         "Asian",
         8
        ],
        [
         "American",
         6
        ]
       ],
       "datasetInfos": [],
       "dbfsResultPath": null,
       "isJsonSchema": true,
       "metadata": {
        "isDbfsCommandResult": false
       },
       "overflow": false,
       "plotOptions": {
        "customPlotOptions": {},
        "displayType": "table",
        "pivotAggregation": null,
        "pivotColumns": null,
        "xColumns": null,
        "yColumns": null
       },
       "removedWidgets": [],
       "schema": [
        {
         "metadata": "{}",
         "name": "category",
         "type": "\"string\""
        },
        {
         "metadata": "{\"__autoGeneratedAlias\":\"true\"}",
         "name": "count(category)",
         "type": "\"long\""
        }
       ],
       "type": "table"
      }
     },
     "output_type": "display_data"
    },
    {
     "output_type": "display_data",
     "data": {
      "text/plain": [
       "Databricks visualization. Run in Databricks to view."
      ]
     },
     "metadata": {
      "application/vnd.databricks.v1.subcommand+json": {
       "baseErrorDetails": null,
       "bindings": {},
       "collapsed": false,
       "command": "%sql WITH q AS (SELECT category, COUNT(category) FROM menu_items\nGROUP BY category) SELECT `category`,SUM(`count(category)`) `column_771f7dc7131` FROM q GROUP BY `category`",
       "commandTitle": "Visualization 1",
       "commandType": "auto",
       "commandVersion": 0,
       "commentThread": [],
       "commentsVisible": false,
       "contentSha256Hex": null,
       "customPlotOptions": {
        "redashChart": [
         {
          "key": "type",
          "value": "CHART"
         },
         {
          "key": "options",
          "value": {
           "alignYAxesAtZero": true,
           "coefficient": 1,
           "columnConfigurationMap": {
            "x": {
             "column": "category",
             "id": "column_771f7dc7130"
            },
            "y": [
             {
              "column": "count(category)",
              "id": "column_771f7dc7131",
              "transform": "SUM"
             }
            ]
           },
           "dateTimeFormat": "DD/MM/YYYY HH:mm",
           "direction": {
            "type": "counterclockwise"
           },
           "error_y": {
            "type": "data",
            "visible": true
           },
           "globalSeriesType": "column",
           "isAggregationOn": true,
           "legend": {
            "traceorder": "normal"
           },
           "missingValuesAsZero": true,
           "numberFormat": "0,0.[00000]",
           "percentFormat": "0[.]00%",
           "series": {
            "error_y": {
             "type": "data",
             "visible": true
            },
            "stacking": null
           },
           "seriesOptions": {
            "column_771f7dc7131": {
             "name": "count(category)",
             "yAxis": 0
            }
           },
           "showDataLabels": true,
           "sizemode": "diameter",
           "sortX": false,
           "sortY": true,
           "swappedAxes": false,
           "textFormat": "",
           "useAggregationsUi": true,
           "valuesOptions": {},
           "version": 2,
           "xAxis": {
            "labels": {
             "enabled": true
            },
            "type": "-"
           },
           "yAxis": [
            {
             "type": "-"
            },
            {
             "opposite": true,
             "type": "-"
            }
           ]
          }
         }
        ]
       },
       "datasetPreviewNameToCmdIdMap": {},
       "diffDeletes": [],
       "diffInserts": [],
       "displayType": "redashChart",
       "error": null,
       "errorDetails": null,
       "errorSummary": null,
       "errorTraceType": null,
       "finishTime": 0,
       "globalVars": {},
       "guid": "",
       "height": "auto",
       "hideCommandCode": false,
       "hideCommandResult": false,
       "iPythonMetadata": null,
       "inputWidgets": {},
       "isLockedInExamMode": false,
       "latestUser": "a user",
       "latestUserId": null,
       "listResultMetadata": null,
       "metadata": {},
       "nuid": "d3e416c1-88de-4551-94b2-6f43f0740f45",
       "origId": 0,
       "parentHierarchy": [],
       "pivotAggregation": null,
       "pivotColumns": null,
       "position": 6.0,
       "resultDbfsErrorMessage": null,
       "resultDbfsStatus": "INLINED_IN_TREE",
       "results": null,
       "showCommandTitle": false,
       "startTime": 0,
       "state": "input",
       "streamStates": {},
       "subcommandOptions": {
        "queryPlan": {
         "groups": [
          {
           "column": "category",
           "type": "column"
          }
         ],
         "selects": [
          {
           "column": "category",
           "type": "column"
          },
          {
           "alias": "column_771f7dc7131",
           "args": [
            {
             "column": "count(category)",
             "type": "column"
            }
           ],
           "function": "SUM",
           "type": "function"
          }
         ]
        }
       },
       "submitTime": 0,
       "subtype": "tableResultSubCmd.visualization",
       "tableResultIndex": 0,
       "tableResultSettingsMap": {},
       "useConsistentColors": false,
       "version": "CommandV1",
       "width": "auto",
       "workflows": [],
       "xColumns": null,
       "yColumns": null
      }
     },
     "output_type": "display_data"
    }
   ],
   "source": [
    "%sql\n",
    "-- 6. How many dishe are in each category \n",
    "SELECT category, COUNT(category) FROM menu_items\n",
    "GROUP BY category;"
   ]
  },
  {
   "cell_type": "code",
   "execution_count": 0,
   "metadata": {
    "application/vnd.databricks.v1+cell": {
     "cellMetadata": {
      "byteLimit": 2048000,
      "rowLimit": 10000
     },
     "inputWidgets": {},
     "nuid": "7b597aff-8676-488e-af5d-1ee38cb5c822",
     "showTitle": false,
     "tableResultSettingsMap": {},
     "title": ""
    }
   },
   "outputs": [
    {
     "output_type": "display_data",
     "data": {
      "text/html": [
       "<style scoped>\n",
       "  .table-result-container {\n",
       "    max-height: 300px;\n",
       "    overflow: auto;\n",
       "  }\n",
       "  table, th, td {\n",
       "    border: 1px solid black;\n",
       "    border-collapse: collapse;\n",
       "  }\n",
       "  th, td {\n",
       "    padding: 5px;\n",
       "  }\n",
       "  th {\n",
       "    text-align: left;\n",
       "  }\n",
       "</style><div class='table-result-container'><table class='table-result'><thead style='background-color: white'><tr><th>category</th><th>avg(price)</th></tr></thead><tbody><tr><td>Mexican</td><td>11.799999872843424</td></tr><tr><td>Italian</td><td>16.75000042385525</td></tr><tr><td>Asian</td><td>13.475000143051147</td></tr><tr><td>American</td><td>10.066666603088379</td></tr></tbody></table></div>"
      ]
     },
     "metadata": {
      "application/vnd.databricks.v1+output": {
       "addedWidgets": {},
       "aggData": [],
       "aggError": "",
       "aggOverflow": false,
       "aggSchema": [],
       "aggSeriesLimitReached": false,
       "aggType": "",
       "arguments": {},
       "columnCustomDisplayInfos": {},
       "data": [
        [
         "Mexican",
         11.799999872843424
        ],
        [
         "Italian",
         16.75000042385525
        ],
        [
         "Asian",
         13.475000143051147
        ],
        [
         "American",
         10.066666603088379
        ]
       ],
       "datasetInfos": [],
       "dbfsResultPath": null,
       "isJsonSchema": true,
       "metadata": {
        "isDbfsCommandResult": false
       },
       "overflow": false,
       "plotOptions": {
        "customPlotOptions": {},
        "displayType": "table",
        "pivotAggregation": null,
        "pivotColumns": null,
        "xColumns": null,
        "yColumns": null
       },
       "removedWidgets": [],
       "schema": [
        {
         "metadata": "{}",
         "name": "category",
         "type": "\"string\""
        },
        {
         "metadata": "{\"__autoGeneratedAlias\":\"true\"}",
         "name": "avg(price)",
         "type": "\"double\""
        }
       ],
       "type": "table"
      }
     },
     "output_type": "display_data"
    },
    {
     "output_type": "display_data",
     "data": {
      "text/plain": [
       "Databricks visualization. Run in Databricks to view."
      ]
     },
     "metadata": {
      "application/vnd.databricks.v1.subcommand+json": {
       "baseErrorDetails": null,
       "bindings": {},
       "collapsed": false,
       "command": "%sql WITH q AS (SELECT category, AVG(price) FROM menu_items\nGROUP BY category) SELECT `category`,SUM(`avg(price)`) `column_771f7dc7135` FROM q GROUP BY `category`",
       "commandTitle": "Visualization 1",
       "commandType": "auto",
       "commandVersion": 0,
       "commentThread": [],
       "commentsVisible": false,
       "contentSha256Hex": null,
       "customPlotOptions": {
        "redashChart": [
         {
          "key": "type",
          "value": "CHART"
         },
         {
          "key": "options",
          "value": {
           "alignYAxesAtZero": true,
           "coefficient": 1,
           "columnConfigurationMap": {
            "x": {
             "column": "category",
             "id": "column_771f7dc7134"
            },
            "y": [
             {
              "column": "avg(price)",
              "id": "column_771f7dc7135",
              "transform": "SUM"
             }
            ]
           },
           "dateTimeFormat": "DD/MM/YYYY HH:mm",
           "direction": {
            "type": "counterclockwise"
           },
           "error_y": {
            "type": "data",
            "visible": true
           },
           "globalSeriesType": "column",
           "isAggregationOn": true,
           "legend": {
            "traceorder": "normal"
           },
           "missingValuesAsZero": true,
           "numberFormat": "0,0.[00000]",
           "percentFormat": "0[.]00%",
           "reverseX": false,
           "series": {
            "error_y": {
             "type": "data",
             "visible": true
            },
            "stacking": null
           },
           "seriesOptions": {
            "column_771f7dc7135": {
             "name": "avg(price)",
             "yAxis": 0
            }
           },
           "showDataLabels": true,
           "sizemode": "diameter",
           "sortX": false,
           "sortY": true,
           "swappedAxes": false,
           "textFormat": "",
           "useAggregationsUi": true,
           "valuesOptions": {},
           "version": 2,
           "xAxis": {
            "labels": {
             "enabled": true
            },
            "type": "-"
           },
           "yAxis": [
            {
             "type": "-"
            },
            {
             "opposite": true,
             "type": "-"
            }
           ]
          }
         }
        ]
       },
       "datasetPreviewNameToCmdIdMap": {},
       "diffDeletes": [],
       "diffInserts": [],
       "displayType": "redashChart",
       "error": null,
       "errorDetails": null,
       "errorSummary": null,
       "errorTraceType": null,
       "finishTime": 0,
       "globalVars": {},
       "guid": "",
       "height": "auto",
       "hideCommandCode": false,
       "hideCommandResult": false,
       "iPythonMetadata": null,
       "inputWidgets": {},
       "isLockedInExamMode": false,
       "latestUser": "a user",
       "latestUserId": null,
       "listResultMetadata": null,
       "metadata": {},
       "nuid": "6b11afba-905b-46d6-94fc-b369f01035be",
       "origId": 0,
       "parentHierarchy": [],
       "pivotAggregation": null,
       "pivotColumns": null,
       "position": 7.0,
       "resultDbfsErrorMessage": null,
       "resultDbfsStatus": "INLINED_IN_TREE",
       "results": null,
       "showCommandTitle": false,
       "startTime": 0,
       "state": "input",
       "streamStates": {},
       "subcommandOptions": {
        "queryPlan": {
         "groups": [
          {
           "column": "category",
           "type": "column"
          }
         ],
         "selects": [
          {
           "column": "category",
           "type": "column"
          },
          {
           "alias": "column_771f7dc7135",
           "args": [
            {
             "column": "avg(price)",
             "type": "column"
            }
           ],
           "function": "SUM",
           "type": "function"
          }
         ]
        }
       },
       "submitTime": 0,
       "subtype": "tableResultSubCmd.visualization",
       "tableResultIndex": 0,
       "tableResultSettingsMap": {},
       "useConsistentColors": false,
       "version": "CommandV1",
       "width": "auto",
       "workflows": [],
       "xColumns": null,
       "yColumns": null
      }
     },
     "output_type": "display_data"
    }
   ],
   "source": [
    "%sql\n",
    "-- 7. What is the average dish price within each category \n",
    "SELECT category, AVG(price) FROM menu_items\n",
    "GROUP BY category;"
   ]
  },
  {
   "cell_type": "markdown",
   "metadata": {
    "application/vnd.databricks.v1+cell": {
     "cellMetadata": {},
     "inputWidgets": {},
     "nuid": "2bcc7e70-9797-4878-a338-cf6d231ca35e",
     "showTitle": false,
     "tableResultSettingsMap": {},
     "title": ""
    }
   },
   "source": [
    "Objective 2: Explore the orders table \n",
    "- View the order_details table. What is the date range of the table \n",
    "- How many order were made within this date range?\n",
    "- Which orders had the most number of items?\n",
    "- How many orders had more than 12 items?"
   ]
  },
  {
   "cell_type": "code",
   "execution_count": 0,
   "metadata": {
    "application/vnd.databricks.v1+cell": {
     "cellMetadata": {
      "byteLimit": 2048000,
      "rowLimit": 10000
     },
     "inputWidgets": {},
     "nuid": "be58a37c-bb41-4df9-b227-b417c54c828e",
     "showTitle": false,
     "tableResultSettingsMap": {},
     "title": ""
    }
   },
   "outputs": [
    {
     "output_type": "display_data",
     "data": {
      "text/html": [
       "<style scoped>\n",
       "  .table-result-container {\n",
       "    max-height: 300px;\n",
       "    overflow: auto;\n",
       "  }\n",
       "  table, th, td {\n",
       "    border: 1px solid black;\n",
       "    border-collapse: collapse;\n",
       "  }\n",
       "  th, td {\n",
       "    padding: 5px;\n",
       "  }\n",
       "  th {\n",
       "    text-align: left;\n",
       "  }\n",
       "</style><div class='table-result-container'><table class='table-result'><thead style='background-color: white'><tr><th>col_name</th><th>data_type</th><th>comment</th></tr></thead><tbody><tr><td>order_details_id</td><td>smallint</td><td>null</td></tr><tr><td>order_id</td><td>smallint</td><td>null</td></tr><tr><td>order_date</td><td>string</td><td>null</td></tr><tr><td>order_time</td><td>string</td><td>null</td></tr><tr><td>item_id</td><td>smallint</td><td>null</td></tr></tbody></table></div>"
      ]
     },
     "metadata": {
      "application/vnd.databricks.v1+output": {
       "addedWidgets": {},
       "aggData": [],
       "aggError": "",
       "aggOverflow": false,
       "aggSchema": [],
       "aggSeriesLimitReached": false,
       "aggType": "",
       "arguments": {},
       "columnCustomDisplayInfos": {},
       "data": [
        [
         "order_details_id",
         "smallint",
         null
        ],
        [
         "order_id",
         "smallint",
         null
        ],
        [
         "order_date",
         "string",
         null
        ],
        [
         "order_time",
         "string",
         null
        ],
        [
         "item_id",
         "smallint",
         null
        ]
       ],
       "datasetInfos": [],
       "dbfsResultPath": null,
       "isJsonSchema": true,
       "metadata": {
        "isDbfsCommandResult": false
       },
       "overflow": false,
       "plotOptions": {
        "customPlotOptions": {},
        "displayType": "table",
        "pivotAggregation": null,
        "pivotColumns": null,
        "xColumns": null,
        "yColumns": null
       },
       "removedWidgets": [],
       "schema": [
        {
         "metadata": "{\"comment\":\"name of the column\"}",
         "name": "col_name",
         "type": "\"string\""
        },
        {
         "metadata": "{\"comment\":\"data type of the column\"}",
         "name": "data_type",
         "type": "\"string\""
        },
        {
         "metadata": "{\"comment\":\"comment of the column\"}",
         "name": "comment",
         "type": "\"string\""
        }
       ],
       "type": "table"
      }
     },
     "output_type": "display_data"
    }
   ],
   "source": [
    "%sql\n",
    "describe order_details;"
   ]
  },
  {
   "cell_type": "code",
   "execution_count": 0,
   "metadata": {
    "application/vnd.databricks.v1+cell": {
     "cellMetadata": {
      "byteLimit": 2048000,
      "rowLimit": 10000
     },
     "inputWidgets": {},
     "nuid": "848f660d-6a2f-48fb-836a-c5a87c8c61c8",
     "showTitle": false,
     "tableResultSettingsMap": {},
     "title": ""
    }
   },
   "outputs": [
    {
     "output_type": "display_data",
     "data": {
      "text/html": [
       "<style scoped>\n",
       "  .table-result-container {\n",
       "    max-height: 300px;\n",
       "    overflow: auto;\n",
       "  }\n",
       "  table, th, td {\n",
       "    border: 1px solid black;\n",
       "    border-collapse: collapse;\n",
       "  }\n",
       "  th, td {\n",
       "    padding: 5px;\n",
       "  }\n",
       "  th {\n",
       "    text-align: left;\n",
       "  }\n",
       "</style><div class='table-result-container'><table class='table-result'><thead style='background-color: white'><tr><th>order_details_id</th><th>order_id</th><th>order_date</th><th>order_time</th><th>item_id</th></tr></thead><tbody><tr><td>1</td><td>1</td><td>1/1/23</td><td>11:38:36 AM</td><td>109</td></tr><tr><td>2</td><td>2</td><td>1/1/23</td><td>11:57:40 AM</td><td>108</td></tr><tr><td>3</td><td>2</td><td>1/1/23</td><td>11:57:40 AM</td><td>124</td></tr><tr><td>4</td><td>2</td><td>1/1/23</td><td>11:57:40 AM</td><td>117</td></tr><tr><td>5</td><td>2</td><td>1/1/23</td><td>11:57:40 AM</td><td>129</td></tr><tr><td>6</td><td>2</td><td>1/1/23</td><td>11:57:40 AM</td><td>106</td></tr><tr><td>7</td><td>3</td><td>1/1/23</td><td>12:12:28 PM</td><td>117</td></tr><tr><td>8</td><td>3</td><td>1/1/23</td><td>12:12:28 PM</td><td>119</td></tr><tr><td>9</td><td>4</td><td>1/1/23</td><td>12:16:31 PM</td><td>117</td></tr><tr><td>10</td><td>5</td><td>1/1/23</td><td>12:21:30 PM</td><td>117</td></tr></tbody></table></div>"
      ]
     },
     "metadata": {
      "application/vnd.databricks.v1+output": {
       "addedWidgets": {},
       "aggData": [],
       "aggError": "",
       "aggOverflow": false,
       "aggSchema": [],
       "aggSeriesLimitReached": false,
       "aggType": "",
       "arguments": {},
       "columnCustomDisplayInfos": {},
       "data": [
        [
         1,
         1,
         "1/1/23",
         "11:38:36 AM",
         109
        ],
        [
         2,
         2,
         "1/1/23",
         "11:57:40 AM",
         108
        ],
        [
         3,
         2,
         "1/1/23",
         "11:57:40 AM",
         124
        ],
        [
         4,
         2,
         "1/1/23",
         "11:57:40 AM",
         117
        ],
        [
         5,
         2,
         "1/1/23",
         "11:57:40 AM",
         129
        ],
        [
         6,
         2,
         "1/1/23",
         "11:57:40 AM",
         106
        ],
        [
         7,
         3,
         "1/1/23",
         "12:12:28 PM",
         117
        ],
        [
         8,
         3,
         "1/1/23",
         "12:12:28 PM",
         119
        ],
        [
         9,
         4,
         "1/1/23",
         "12:16:31 PM",
         117
        ],
        [
         10,
         5,
         "1/1/23",
         "12:21:30 PM",
         117
        ]
       ],
       "datasetInfos": [],
       "dbfsResultPath": null,
       "isJsonSchema": true,
       "metadata": {
        "isDbfsCommandResult": false
       },
       "overflow": false,
       "plotOptions": {
        "customPlotOptions": {},
        "displayType": "table",
        "pivotAggregation": null,
        "pivotColumns": null,
        "xColumns": null,
        "yColumns": null
       },
       "removedWidgets": [],
       "schema": [
        {
         "metadata": "{}",
         "name": "order_details_id",
         "type": "\"integer\""
        },
        {
         "metadata": "{}",
         "name": "order_id",
         "type": "\"integer\""
        },
        {
         "metadata": "{}",
         "name": "order_date",
         "type": "\"string\""
        },
        {
         "metadata": "{}",
         "name": "order_time",
         "type": "\"string\""
        },
        {
         "metadata": "{}",
         "name": "item_id",
         "type": "\"integer\""
        }
       ],
       "type": "table"
      }
     },
     "output_type": "display_data"
    }
   ],
   "source": [
    "%sql\n",
    "-- 1. View the table \n",
    "SELECT * FROM order_details\n",
    "LIMIT 10;"
   ]
  },
  {
   "cell_type": "code",
   "execution_count": 0,
   "metadata": {
    "application/vnd.databricks.v1+cell": {
     "cellMetadata": {
      "byteLimit": 2048000,
      "rowLimit": 10000
     },
     "inputWidgets": {},
     "nuid": "106db922-9a9f-49da-8a5c-95fdb95ad55f",
     "showTitle": false,
     "tableResultSettingsMap": {},
     "title": ""
    }
   },
   "outputs": [
    {
     "output_type": "display_data",
     "data": {
      "text/html": [
       "<style scoped>\n",
       "  .table-result-container {\n",
       "    max-height: 300px;\n",
       "    overflow: auto;\n",
       "  }\n",
       "  table, th, td {\n",
       "    border: 1px solid black;\n",
       "    border-collapse: collapse;\n",
       "  }\n",
       "  th, td {\n",
       "    padding: 5px;\n",
       "  }\n",
       "  th {\n",
       "    text-align: left;\n",
       "  }\n",
       "</style><div class='table-result-container'><table class='table-result'><thead style='background-color: white'><tr><th>order_date</th></tr></thead><tbody><tr><td>1/1/23</td></tr></tbody></table></div>"
      ]
     },
     "metadata": {
      "application/vnd.databricks.v1+output": {
       "addedWidgets": {},
       "aggData": [],
       "aggError": "",
       "aggOverflow": false,
       "aggSchema": [],
       "aggSeriesLimitReached": false,
       "aggType": "",
       "arguments": {},
       "columnCustomDisplayInfos": {},
       "data": [
        [
         "1/1/23"
        ]
       ],
       "datasetInfos": [],
       "dbfsResultPath": null,
       "isJsonSchema": true,
       "metadata": {
        "isDbfsCommandResult": false
       },
       "overflow": false,
       "plotOptions": {
        "customPlotOptions": {},
        "displayType": "table",
        "pivotAggregation": null,
        "pivotColumns": null,
        "xColumns": null,
        "yColumns": null
       },
       "removedWidgets": [],
       "schema": [
        {
         "metadata": "{}",
         "name": "order_date",
         "type": "\"string\""
        }
       ],
       "type": "table"
      }
     },
     "output_type": "display_data"
    }
   ],
   "source": [
    "%sql\n",
    "-- 2. What is the date range of the table \n",
    "-- SELECT MIN(order_date), MAX(order_date) FROM order_details\n",
    "\n",
    "-- First order date\n",
    "SELECT order_date FROM order_details\n",
    "ORDER BY order_details_id\n",
    "LIMIT 1;"
   ]
  },
  {
   "cell_type": "code",
   "execution_count": 0,
   "metadata": {
    "application/vnd.databricks.v1+cell": {
     "cellMetadata": {
      "byteLimit": 2048000,
      "rowLimit": 10000
     },
     "inputWidgets": {},
     "nuid": "bc454a7a-d5a0-4bf6-ab20-12ebf4152279",
     "showTitle": false,
     "tableResultSettingsMap": {},
     "title": ""
    }
   },
   "outputs": [
    {
     "output_type": "display_data",
     "data": {
      "text/html": [
       "<style scoped>\n",
       "  .table-result-container {\n",
       "    max-height: 300px;\n",
       "    overflow: auto;\n",
       "  }\n",
       "  table, th, td {\n",
       "    border: 1px solid black;\n",
       "    border-collapse: collapse;\n",
       "  }\n",
       "  th, td {\n",
       "    padding: 5px;\n",
       "  }\n",
       "  th {\n",
       "    text-align: left;\n",
       "  }\n",
       "</style><div class='table-result-container'><table class='table-result'><thead style='background-color: white'><tr><th>order_date</th></tr></thead><tbody><tr><td>3/31/23</td></tr></tbody></table></div>"
      ]
     },
     "metadata": {
      "application/vnd.databricks.v1+output": {
       "addedWidgets": {},
       "aggData": [],
       "aggError": "",
       "aggOverflow": false,
       "aggSchema": [],
       "aggSeriesLimitReached": false,
       "aggType": "",
       "arguments": {},
       "columnCustomDisplayInfos": {},
       "data": [
        [
         "3/31/23"
        ]
       ],
       "datasetInfos": [],
       "dbfsResultPath": null,
       "isJsonSchema": true,
       "metadata": {
        "isDbfsCommandResult": false
       },
       "overflow": false,
       "plotOptions": {
        "customPlotOptions": {},
        "displayType": "table",
        "pivotAggregation": null,
        "pivotColumns": null,
        "xColumns": null,
        "yColumns": null
       },
       "removedWidgets": [],
       "schema": [
        {
         "metadata": "{}",
         "name": "order_date",
         "type": "\"string\""
        }
       ],
       "type": "table"
      }
     },
     "output_type": "display_data"
    }
   ],
   "source": [
    "%sql\n",
    "-- Last order date\n",
    "SELECT order_date FROM order_details\n",
    "ORDER BY order_details_id DESC\n",
    "LIMIT 1;"
   ]
  },
  {
   "cell_type": "code",
   "execution_count": 0,
   "metadata": {
    "application/vnd.databricks.v1+cell": {
     "cellMetadata": {
      "byteLimit": 2048000,
      "rowLimit": 10000
     },
     "inputWidgets": {},
     "nuid": "4f6d291d-6e98-4dd6-9e3d-9b04860c8c2f",
     "showTitle": false,
     "tableResultSettingsMap": {},
     "title": ""
    }
   },
   "outputs": [
    {
     "output_type": "display_data",
     "data": {
      "text/html": [
       "<style scoped>\n",
       "  .table-result-container {\n",
       "    max-height: 300px;\n",
       "    overflow: auto;\n",
       "  }\n",
       "  table, th, td {\n",
       "    border: 1px solid black;\n",
       "    border-collapse: collapse;\n",
       "  }\n",
       "  th, td {\n",
       "    padding: 5px;\n",
       "  }\n",
       "  th {\n",
       "    text-align: left;\n",
       "  }\n",
       "</style><div class='table-result-container'><table class='table-result'><thead style='background-color: white'><tr><th>count(DISTINCT order_id)</th></tr></thead><tbody><tr><td>5370</td></tr></tbody></table></div>"
      ]
     },
     "metadata": {
      "application/vnd.databricks.v1+output": {
       "addedWidgets": {},
       "aggData": [],
       "aggError": "",
       "aggOverflow": false,
       "aggSchema": [],
       "aggSeriesLimitReached": false,
       "aggType": "",
       "arguments": {},
       "columnCustomDisplayInfos": {},
       "data": [
        [
         5370
        ]
       ],
       "datasetInfos": [],
       "dbfsResultPath": null,
       "isJsonSchema": true,
       "metadata": {
        "isDbfsCommandResult": false
       },
       "overflow": false,
       "plotOptions": {
        "customPlotOptions": {},
        "displayType": "table",
        "pivotAggregation": null,
        "pivotColumns": null,
        "xColumns": null,
        "yColumns": null
       },
       "removedWidgets": [],
       "schema": [
        {
         "metadata": "{\"__autoGeneratedAlias\":\"true\"}",
         "name": "count(DISTINCT order_id)",
         "type": "\"long\""
        }
       ],
       "type": "table"
      }
     },
     "output_type": "display_data"
    }
   ],
   "source": [
    "%sql\n",
    "-- 3. How many orders we made within this date range\n",
    "SELECT COUNT(DISTINCT order_id) FROM order_details; "
   ]
  },
  {
   "cell_type": "code",
   "execution_count": 0,
   "metadata": {
    "application/vnd.databricks.v1+cell": {
     "cellMetadata": {
      "byteLimit": 2048000,
      "rowLimit": 10000
     },
     "inputWidgets": {},
     "nuid": "8b7f335b-f057-41c3-aa00-516e4a3835c1",
     "showTitle": false,
     "tableResultSettingsMap": {},
     "title": ""
    }
   },
   "outputs": [
    {
     "output_type": "display_data",
     "data": {
      "text/html": [
       "<style scoped>\n",
       "  .table-result-container {\n",
       "    max-height: 300px;\n",
       "    overflow: auto;\n",
       "  }\n",
       "  table, th, td {\n",
       "    border: 1px solid black;\n",
       "    border-collapse: collapse;\n",
       "  }\n",
       "  th, td {\n",
       "    padding: 5px;\n",
       "  }\n",
       "  th {\n",
       "    text-align: left;\n",
       "  }\n",
       "</style><div class='table-result-container'><table class='table-result'><thead style='background-color: white'><tr><th>count(1)</th></tr></thead><tbody><tr><td>12234</td></tr></tbody></table></div>"
      ]
     },
     "metadata": {
      "application/vnd.databricks.v1+output": {
       "addedWidgets": {},
       "aggData": [],
       "aggError": "",
       "aggOverflow": false,
       "aggSchema": [],
       "aggSeriesLimitReached": false,
       "aggType": "",
       "arguments": {},
       "columnCustomDisplayInfos": {},
       "data": [
        [
         12234
        ]
       ],
       "datasetInfos": [],
       "dbfsResultPath": null,
       "isJsonSchema": true,
       "metadata": {
        "isDbfsCommandResult": false
       },
       "overflow": false,
       "plotOptions": {
        "customPlotOptions": {},
        "displayType": "table",
        "pivotAggregation": null,
        "pivotColumns": null,
        "xColumns": null,
        "yColumns": null
       },
       "removedWidgets": [],
       "schema": [
        {
         "metadata": "{\"__autoGeneratedAlias\":\"true\"}",
         "name": "count(1)",
         "type": "\"long\""
        }
       ],
       "type": "table"
      }
     },
     "output_type": "display_data"
    }
   ],
   "source": [
    "%sql\n",
    "-- 4. How many items were ordered within this date range\n",
    "SELECT COUNT(*) FROM order_details;"
   ]
  },
  {
   "cell_type": "code",
   "execution_count": 0,
   "metadata": {
    "application/vnd.databricks.v1+cell": {
     "cellMetadata": {
      "byteLimit": 2048000,
      "rowLimit": 10000
     },
     "inputWidgets": {},
     "nuid": "9f89f13c-d665-4c60-bfb4-776871403e2b",
     "showTitle": false,
     "tableResultSettingsMap": {},
     "title": ""
    }
   },
   "outputs": [
    {
     "output_type": "display_data",
     "data": {
      "text/html": [
       "<style scoped>\n",
       "  .table-result-container {\n",
       "    max-height: 300px;\n",
       "    overflow: auto;\n",
       "  }\n",
       "  table, th, td {\n",
       "    border: 1px solid black;\n",
       "    border-collapse: collapse;\n",
       "  }\n",
       "  th, td {\n",
       "    padding: 5px;\n",
       "  }\n",
       "  th {\n",
       "    text-align: left;\n",
       "  }\n",
       "</style><div class='table-result-container'><table class='table-result'><thead style='background-color: white'><tr><th>order_id</th><th>num_items</th></tr></thead><tbody><tr><td>4305</td><td>14</td></tr><tr><td>2675</td><td>14</td></tr><tr><td>330</td><td>14</td></tr><tr><td>440</td><td>14</td></tr><tr><td>3473</td><td>14</td></tr><tr><td>1957</td><td>14</td></tr><tr><td>443</td><td>14</td></tr><tr><td>5066</td><td>13</td></tr><tr><td>4482</td><td>13</td></tr><tr><td>1274</td><td>13</td></tr></tbody></table></div>"
      ]
     },
     "metadata": {
      "application/vnd.databricks.v1+output": {
       "addedWidgets": {},
       "aggData": [],
       "aggError": "",
       "aggOverflow": false,
       "aggSchema": [],
       "aggSeriesLimitReached": false,
       "aggType": "",
       "arguments": {},
       "columnCustomDisplayInfos": {},
       "data": [
        [
         4305,
         14
        ],
        [
         2675,
         14
        ],
        [
         330,
         14
        ],
        [
         440,
         14
        ],
        [
         3473,
         14
        ],
        [
         1957,
         14
        ],
        [
         443,
         14
        ],
        [
         5066,
         13
        ],
        [
         4482,
         13
        ],
        [
         1274,
         13
        ]
       ],
       "datasetInfos": [],
       "dbfsResultPath": null,
       "isJsonSchema": true,
       "metadata": {
        "isDbfsCommandResult": false
       },
       "overflow": false,
       "plotOptions": {
        "customPlotOptions": {},
        "displayType": "table",
        "pivotAggregation": null,
        "pivotColumns": null,
        "xColumns": null,
        "yColumns": null
       },
       "removedWidgets": [],
       "schema": [
        {
         "metadata": "{}",
         "name": "order_id",
         "type": "\"integer\""
        },
        {
         "metadata": "{}",
         "name": "num_items",
         "type": "\"long\""
        }
       ],
       "type": "table"
      }
     },
     "output_type": "display_data"
    }
   ],
   "source": [
    "%sql\n",
    "-- 5. Whcih orders had the most number of items\n",
    "SELECT order_id, COUNT(item_id) AS num_items FROM order_details\n",
    "GROUP BY order_id\n",
    "ORDER BY num_items DESC\n",
    "LIMIT 10;"
   ]
  },
  {
   "cell_type": "code",
   "execution_count": 0,
   "metadata": {
    "application/vnd.databricks.v1+cell": {
     "cellMetadata": {
      "byteLimit": 2048000,
      "rowLimit": 10000
     },
     "inputWidgets": {},
     "nuid": "999e4b0e-78ec-4e08-983a-32e85e4b1a19",
     "showTitle": false,
     "tableResultSettingsMap": {},
     "title": ""
    }
   },
   "outputs": [
    {
     "output_type": "display_data",
     "data": {
      "text/html": [
       "<style scoped>\n",
       "  .table-result-container {\n",
       "    max-height: 300px;\n",
       "    overflow: auto;\n",
       "  }\n",
       "  table, th, td {\n",
       "    border: 1px solid black;\n",
       "    border-collapse: collapse;\n",
       "  }\n",
       "  th, td {\n",
       "    padding: 5px;\n",
       "  }\n",
       "  th {\n",
       "    text-align: left;\n",
       "  }\n",
       "</style><div class='table-result-container'><table class='table-result'><thead style='background-color: white'><tr><th>count(1)</th></tr></thead><tbody><tr><td>20</td></tr></tbody></table></div>"
      ]
     },
     "metadata": {
      "application/vnd.databricks.v1+output": {
       "addedWidgets": {},
       "aggData": [],
       "aggError": "",
       "aggOverflow": false,
       "aggSchema": [],
       "aggSeriesLimitReached": false,
       "aggType": "",
       "arguments": {},
       "columnCustomDisplayInfos": {},
       "data": [
        [
         20
        ]
       ],
       "datasetInfos": [],
       "dbfsResultPath": null,
       "isJsonSchema": true,
       "metadata": {
        "isDbfsCommandResult": false
       },
       "overflow": false,
       "plotOptions": {
        "customPlotOptions": {},
        "displayType": "table",
        "pivotAggregation": null,
        "pivotColumns": null,
        "xColumns": null,
        "yColumns": null
       },
       "removedWidgets": [],
       "schema": [
        {
         "metadata": "{\"__autoGeneratedAlias\":\"true\"}",
         "name": "count(1)",
         "type": "\"long\""
        }
       ],
       "type": "table"
      }
     },
     "output_type": "display_data"
    }
   ],
   "source": [
    "%sql\n",
    "-- 6. How many orders had more than 12 items\n",
    "SELECT COUNT(*) FROM\n",
    "(SELECT order_id, COUNT(item_id) AS num_items FROM order_details\n",
    "GROUP BY order_id\n",
    "HAVING num_items > 12);"
   ]
  },
  {
   "cell_type": "markdown",
   "metadata": {
    "application/vnd.databricks.v1+cell": {
     "cellMetadata": {},
     "inputWidgets": {},
     "nuid": "dafb3391-fe74-48f9-bddd-75f8151bd13d",
     "showTitle": false,
     "tableResultSettingsMap": {},
     "title": ""
    }
   },
   "source": [
    "Objective 3: Analyze customer behavior \n",
    "- Combine the menu_items and order_details tables into one table \n",
    "- What were the least and most ordered items? What category were they in?\n",
    "- What were the top 5 orders that spent the mot money?\n",
    "- View the details of the highest spend order. What insights can you gather from the results?\n",
    "- View the details of top 5 highest spend orders. What insights can you gather from the results?"
   ]
  },
  {
   "cell_type": "code",
   "execution_count": 0,
   "metadata": {
    "application/vnd.databricks.v1+cell": {
     "cellMetadata": {
      "byteLimit": 2048000,
      "rowLimit": 10000
     },
     "inputWidgets": {},
     "nuid": "b38db7c2-d9a8-4bde-8852-b1fde0aacc4c",
     "showTitle": false,
     "tableResultSettingsMap": {},
     "title": ""
    }
   },
   "outputs": [
    {
     "output_type": "display_data",
     "data": {
      "text/html": [
       "<style scoped>\n",
       "  .table-result-container {\n",
       "    max-height: 300px;\n",
       "    overflow: auto;\n",
       "  }\n",
       "  table, th, td {\n",
       "    border: 1px solid black;\n",
       "    border-collapse: collapse;\n",
       "  }\n",
       "  th, td {\n",
       "    padding: 5px;\n",
       "  }\n",
       "  th {\n",
       "    text-align: left;\n",
       "  }\n",
       "</style><div class='table-result-container'><table class='table-result'><thead style='background-color: white'><tr><th>order_details_id</th><th>order_id</th><th>order_date</th><th>order_time</th><th>item_id</th><th>menu_item_id</th><th>item_name</th><th>category</th><th>price</th></tr></thead><tbody><tr><td>1</td><td>1</td><td>1/1/23</td><td>11:38:36 AM</td><td>109</td><td>109</td><td>Korean Beef Bowl</td><td>Asian</td><td>17.95</td></tr><tr><td>2</td><td>2</td><td>1/1/23</td><td>11:57:40 AM</td><td>108</td><td>108</td><td>Tofu Pad Thai</td><td>Asian</td><td>14.5</td></tr><tr><td>3</td><td>2</td><td>1/1/23</td><td>11:57:40 AM</td><td>124</td><td>124</td><td>Spaghetti</td><td>Italian</td><td>14.5</td></tr><tr><td>4</td><td>2</td><td>1/1/23</td><td>11:57:40 AM</td><td>117</td><td>117</td><td>Chicken Burrito</td><td>Mexican</td><td>12.95</td></tr><tr><td>5</td><td>2</td><td>1/1/23</td><td>11:57:40 AM</td><td>129</td><td>129</td><td>Mushroom Ravioli</td><td>Italian</td><td>15.5</td></tr><tr><td>6</td><td>2</td><td>1/1/23</td><td>11:57:40 AM</td><td>106</td><td>106</td><td>French Fries</td><td>American</td><td>7.0</td></tr><tr><td>7</td><td>3</td><td>1/1/23</td><td>12:12:28 PM</td><td>117</td><td>117</td><td>Chicken Burrito</td><td>Mexican</td><td>12.95</td></tr><tr><td>8</td><td>3</td><td>1/1/23</td><td>12:12:28 PM</td><td>119</td><td>119</td><td>Chicken Torta</td><td>Mexican</td><td>11.95</td></tr><tr><td>9</td><td>4</td><td>1/1/23</td><td>12:16:31 PM</td><td>117</td><td>117</td><td>Chicken Burrito</td><td>Mexican</td><td>12.95</td></tr><tr><td>10</td><td>5</td><td>1/1/23</td><td>12:21:30 PM</td><td>117</td><td>117</td><td>Chicken Burrito</td><td>Mexican</td><td>12.95</td></tr></tbody></table></div>"
      ]
     },
     "metadata": {
      "application/vnd.databricks.v1+output": {
       "addedWidgets": {},
       "aggData": [],
       "aggError": "",
       "aggOverflow": false,
       "aggSchema": [],
       "aggSeriesLimitReached": false,
       "aggType": "",
       "arguments": {},
       "columnCustomDisplayInfos": {},
       "data": [
        [
         1,
         1,
         "1/1/23",
         "11:38:36 AM",
         109,
         109,
         "Korean Beef Bowl",
         "Asian",
         17.95
        ],
        [
         2,
         2,
         "1/1/23",
         "11:57:40 AM",
         108,
         108,
         "Tofu Pad Thai",
         "Asian",
         14.5
        ],
        [
         3,
         2,
         "1/1/23",
         "11:57:40 AM",
         124,
         124,
         "Spaghetti",
         "Italian",
         14.5
        ],
        [
         4,
         2,
         "1/1/23",
         "11:57:40 AM",
         117,
         117,
         "Chicken Burrito",
         "Mexican",
         12.95
        ],
        [
         5,
         2,
         "1/1/23",
         "11:57:40 AM",
         129,
         129,
         "Mushroom Ravioli",
         "Italian",
         15.5
        ],
        [
         6,
         2,
         "1/1/23",
         "11:57:40 AM",
         106,
         106,
         "French Fries",
         "American",
         7.0
        ],
        [
         7,
         3,
         "1/1/23",
         "12:12:28 PM",
         117,
         117,
         "Chicken Burrito",
         "Mexican",
         12.95
        ],
        [
         8,
         3,
         "1/1/23",
         "12:12:28 PM",
         119,
         119,
         "Chicken Torta",
         "Mexican",
         11.95
        ],
        [
         9,
         4,
         "1/1/23",
         "12:16:31 PM",
         117,
         117,
         "Chicken Burrito",
         "Mexican",
         12.95
        ],
        [
         10,
         5,
         "1/1/23",
         "12:21:30 PM",
         117,
         117,
         "Chicken Burrito",
         "Mexican",
         12.95
        ]
       ],
       "datasetInfos": [],
       "dbfsResultPath": null,
       "isJsonSchema": true,
       "metadata": {
        "isDbfsCommandResult": false
       },
       "overflow": false,
       "plotOptions": {
        "customPlotOptions": {},
        "displayType": "table",
        "pivotAggregation": null,
        "pivotColumns": null,
        "xColumns": null,
        "yColumns": null
       },
       "removedWidgets": [],
       "schema": [
        {
         "metadata": "{}",
         "name": "order_details_id",
         "type": "\"integer\""
        },
        {
         "metadata": "{}",
         "name": "order_id",
         "type": "\"integer\""
        },
        {
         "metadata": "{}",
         "name": "order_date",
         "type": "\"string\""
        },
        {
         "metadata": "{}",
         "name": "order_time",
         "type": "\"string\""
        },
        {
         "metadata": "{}",
         "name": "item_id",
         "type": "\"integer\""
        },
        {
         "metadata": "{}",
         "name": "menu_item_id",
         "type": "\"integer\""
        },
        {
         "metadata": "{}",
         "name": "item_name",
         "type": "\"string\""
        },
        {
         "metadata": "{}",
         "name": "category",
         "type": "\"string\""
        },
        {
         "metadata": "{}",
         "name": "price",
         "type": "\"float\""
        }
       ],
       "type": "table"
      }
     },
     "output_type": "display_data"
    }
   ],
   "source": [
    "%sql\n",
    "-- 1. Combine the menu_items and order_details tables into one table \n",
    "SELECT * FROM order_details od \n",
    "LEFT JOIN menu_items mi \n",
    "ON od.item_id = mi.menu_item_id\n",
    "LIMIT 10;"
   ]
  },
  {
   "cell_type": "code",
   "execution_count": 0,
   "metadata": {
    "application/vnd.databricks.v1+cell": {
     "cellMetadata": {
      "byteLimit": 2048000,
      "rowLimit": 10000
     },
     "inputWidgets": {},
     "nuid": "9d5fdbef-3ceb-41d0-ba28-b7b9aec622cd",
     "showTitle": false,
     "tableResultSettingsMap": {},
     "title": ""
    }
   },
   "outputs": [
    {
     "output_type": "display_data",
     "data": {
      "text/html": [
       "<style scoped>\n",
       "  .table-result-container {\n",
       "    max-height: 300px;\n",
       "    overflow: auto;\n",
       "  }\n",
       "  table, th, td {\n",
       "    border: 1px solid black;\n",
       "    border-collapse: collapse;\n",
       "  }\n",
       "  th, td {\n",
       "    padding: 5px;\n",
       "  }\n",
       "  th {\n",
       "    text-align: left;\n",
       "  }\n",
       "</style><div class='table-result-container'><table class='table-result'><thead style='background-color: white'><tr><th>item_name</th><th>category</th><th>count(order_details_id)</th></tr></thead><tbody><tr><td>Chicken Tacos</td><td>Mexican</td><td>123</td></tr><tr><td>null</td><td>null</td><td>137</td></tr><tr><td>Potstickers</td><td>Asian</td><td>205</td></tr><tr><td>Cheese Lasagna</td><td>Italian</td><td>207</td></tr><tr><td>Steak Tacos</td><td>Mexican</td><td>214</td></tr><tr><td>Cheese Quesadillas</td><td>Mexican</td><td>233</td></tr><tr><td>Chips & Guacamole</td><td>Mexican</td><td>237</td></tr><tr><td>Veggie Burger</td><td>American</td><td>238</td></tr><tr><td>Shrimp Scampi</td><td>Italian</td><td>239</td></tr><tr><td>Fettuccine Alfredo</td><td>Italian</td><td>249</td></tr><tr><td>Hot Dog</td><td>American</td><td>257</td></tr><tr><td>Meat Lasagna</td><td>Italian</td><td>273</td></tr><tr><td>Salmon Roll</td><td>Asian</td><td>324</td></tr><tr><td>Steak Burrito</td><td>Mexican</td><td>354</td></tr><tr><td>California Roll</td><td>Asian</td><td>355</td></tr><tr><td>Mushroom Ravioli</td><td>Italian</td><td>359</td></tr><tr><td>Pork Ramen</td><td>Asian</td><td>360</td></tr><tr><td>Chicken Parmesan</td><td>Italian</td><td>364</td></tr><tr><td>Spaghetti</td><td>Italian</td><td>367</td></tr><tr><td>Chicken Torta</td><td>Mexican</td><td>379</td></tr><tr><td>Eggplant Parmesan</td><td>Italian</td><td>420</td></tr><tr><td>Chicken Burrito</td><td>Mexican</td><td>455</td></tr><tr><td>Orange Chicken</td><td>Asian</td><td>456</td></tr><tr><td>Chips & Salsa</td><td>Mexican</td><td>461</td></tr><tr><td>Mac & Cheese</td><td>American</td><td>463</td></tr><tr><td>Spaghetti & Meatballs</td><td>Italian</td><td>470</td></tr><tr><td>Steak Torta</td><td>Mexican</td><td>489</td></tr><tr><td>Tofu Pad Thai</td><td>Asian</td><td>562</td></tr><tr><td>French Fries</td><td>American</td><td>571</td></tr><tr><td>Cheeseburger</td><td>American</td><td>583</td></tr><tr><td>Korean Beef Bowl</td><td>Asian</td><td>588</td></tr><tr><td>Edamame</td><td>Asian</td><td>620</td></tr><tr><td>Hamburger</td><td>American</td><td>622</td></tr></tbody></table></div>"
      ]
     },
     "metadata": {
      "application/vnd.databricks.v1+output": {
       "addedWidgets": {},
       "aggData": [],
       "aggError": "",
       "aggOverflow": false,
       "aggSchema": [],
       "aggSeriesLimitReached": false,
       "aggType": "",
       "arguments": {},
       "columnCustomDisplayInfos": {},
       "data": [
        [
         "Chicken Tacos",
         "Mexican",
         123
        ],
        [
         null,
         null,
         137
        ],
        [
         "Potstickers",
         "Asian",
         205
        ],
        [
         "Cheese Lasagna",
         "Italian",
         207
        ],
        [
         "Steak Tacos",
         "Mexican",
         214
        ],
        [
         "Cheese Quesadillas",
         "Mexican",
         233
        ],
        [
         "Chips & Guacamole",
         "Mexican",
         237
        ],
        [
         "Veggie Burger",
         "American",
         238
        ],
        [
         "Shrimp Scampi",
         "Italian",
         239
        ],
        [
         "Fettuccine Alfredo",
         "Italian",
         249
        ],
        [
         "Hot Dog",
         "American",
         257
        ],
        [
         "Meat Lasagna",
         "Italian",
         273
        ],
        [
         "Salmon Roll",
         "Asian",
         324
        ],
        [
         "Steak Burrito",
         "Mexican",
         354
        ],
        [
         "California Roll",
         "Asian",
         355
        ],
        [
         "Mushroom Ravioli",
         "Italian",
         359
        ],
        [
         "Pork Ramen",
         "Asian",
         360
        ],
        [
         "Chicken Parmesan",
         "Italian",
         364
        ],
        [
         "Spaghetti",
         "Italian",
         367
        ],
        [
         "Chicken Torta",
         "Mexican",
         379
        ],
        [
         "Eggplant Parmesan",
         "Italian",
         420
        ],
        [
         "Chicken Burrito",
         "Mexican",
         455
        ],
        [
         "Orange Chicken",
         "Asian",
         456
        ],
        [
         "Chips & Salsa",
         "Mexican",
         461
        ],
        [
         "Mac & Cheese",
         "American",
         463
        ],
        [
         "Spaghetti & Meatballs",
         "Italian",
         470
        ],
        [
         "Steak Torta",
         "Mexican",
         489
        ],
        [
         "Tofu Pad Thai",
         "Asian",
         562
        ],
        [
         "French Fries",
         "American",
         571
        ],
        [
         "Cheeseburger",
         "American",
         583
        ],
        [
         "Korean Beef Bowl",
         "Asian",
         588
        ],
        [
         "Edamame",
         "Asian",
         620
        ],
        [
         "Hamburger",
         "American",
         622
        ]
       ],
       "datasetInfos": [],
       "dbfsResultPath": null,
       "isJsonSchema": true,
       "metadata": {
        "isDbfsCommandResult": false
       },
       "overflow": false,
       "plotOptions": {
        "customPlotOptions": {},
        "displayType": "table",
        "pivotAggregation": null,
        "pivotColumns": null,
        "xColumns": null,
        "yColumns": null
       },
       "removedWidgets": [],
       "schema": [
        {
         "metadata": "{}",
         "name": "item_name",
         "type": "\"string\""
        },
        {
         "metadata": "{}",
         "name": "category",
         "type": "\"string\""
        },
        {
         "metadata": "{\"__autoGeneratedAlias\":\"true\"}",
         "name": "count(order_details_id)",
         "type": "\"long\""
        }
       ],
       "type": "table"
      }
     },
     "output_type": "display_data"
    },
    {
     "output_type": "display_data",
     "data": {
      "text/plain": [
       "Databricks visualization. Run in Databricks to view."
      ]
     },
     "metadata": {
      "application/vnd.databricks.v1.subcommand+json": {
       "baseErrorDetails": null,
       "bindings": {},
       "collapsed": false,
       "command": "%sql WITH q AS (SELECT item_name, category, COUNT(order_details_id) FROM order_details od \nLEFT JOIN menu_items mi \nON od.item_id = mi.menu_item_id\nGROUP BY item_name, category\nORDER BY COUNT(order_details_id)) SELECT `item_name`,`category`,SUM(`count(order_details_id)`) `column_db24222c106` FROM q GROUP BY `category`,`item_name`",
       "commandTitle": "Visualization 1",
       "commandType": "auto",
       "commandVersion": 0,
       "commentThread": [],
       "commentsVisible": false,
       "contentSha256Hex": null,
       "customPlotOptions": {
        "redashChart": [
         {
          "key": "type",
          "value": "CHART"
         },
         {
          "key": "options",
          "value": {
           "alignYAxesAtZero": true,
           "coefficient": 1,
           "columnConfigurationMap": {
            "series": {
             "column": "category",
             "id": "column_db24222c105"
            },
            "x": {
             "column": "item_name",
             "id": "column_db24222c104"
            },
            "y": [
             {
              "column": "count(order_details_id)",
              "id": "column_db24222c106",
              "transform": "SUM"
             }
            ]
           },
           "dateTimeFormat": "DD/MM/YYYY HH:mm",
           "direction": {
            "type": "counterclockwise"
           },
           "error_y": {
            "type": "data",
            "visible": true
           },
           "globalSeriesType": "column",
           "isAggregationOn": true,
           "legend": {
            "traceorder": "normal"
           },
           "missingValuesAsZero": true,
           "numberFormat": "0,0.[00000]",
           "percentFormat": "0[.]00%",
           "series": {
            "error_y": {
             "type": "data",
             "visible": true
            },
            "stacking": "stack"
           },
           "seriesOptions": {
            "column_db24222c106": {
             "name": "count(order_details_id)",
             "yAxis": 0
            }
           },
           "showDataLabels": false,
           "sizemode": "diameter",
           "sortX": false,
           "sortY": true,
           "swappedAxes": true,
           "textFormat": "",
           "useAggregationsUi": true,
           "valuesOptions": {},
           "version": 2,
           "xAxis": {
            "labels": {
             "enabled": true
            },
            "type": "-"
           },
           "yAxis": [
            {
             "type": "-"
            },
            {
             "opposite": true,
             "type": "-"
            }
           ]
          }
         }
        ]
       },
       "datasetPreviewNameToCmdIdMap": {},
       "diffDeletes": [],
       "diffInserts": [],
       "displayType": "redashChart",
       "error": null,
       "errorDetails": null,
       "errorSummary": null,
       "errorTraceType": null,
       "finishTime": 0,
       "globalVars": {},
       "guid": "",
       "height": "auto",
       "hideCommandCode": false,
       "hideCommandResult": false,
       "iPythonMetadata": null,
       "inputWidgets": {},
       "isLockedInExamMode": false,
       "latestUser": "a user",
       "latestUserId": null,
       "listResultMetadata": null,
       "metadata": {},
       "nuid": "f85fd547-4651-4528-8b02-6ba7307785c4",
       "origId": 0,
       "parentHierarchy": [],
       "pivotAggregation": null,
       "pivotColumns": null,
       "position": 17.0,
       "resultDbfsErrorMessage": null,
       "resultDbfsStatus": "INLINED_IN_TREE",
       "results": null,
       "showCommandTitle": false,
       "startTime": 0,
       "state": "input",
       "streamStates": {},
       "subcommandOptions": {
        "queryPlan": {
         "groups": [
          {
           "column": "item_name",
           "type": "column"
          },
          {
           "column": "category",
           "type": "column"
          }
         ],
         "selects": [
          {
           "column": "item_name",
           "type": "column"
          },
          {
           "column": "category",
           "type": "column"
          },
          {
           "alias": "column_db24222c106",
           "args": [
            {
             "column": "count(order_details_id)",
             "type": "column"
            }
           ],
           "function": "SUM",
           "type": "function"
          }
         ]
        }
       },
       "submitTime": 0,
       "subtype": "tableResultSubCmd.visualization",
       "tableResultIndex": 0,
       "tableResultSettingsMap": {},
       "useConsistentColors": false,
       "version": "CommandV1",
       "width": "auto",
       "workflows": [],
       "xColumns": null,
       "yColumns": null
      }
     },
     "output_type": "display_data"
    }
   ],
   "source": [
    "%sql\n",
    "-- 2. What were the least and most ordered items? What category were they in?\n",
    "\n",
    "-- Least ordered items\n",
    "SELECT item_name, category, COUNT(order_details_id) FROM order_details od \n",
    "LEFT JOIN menu_items mi \n",
    "ON od.item_id = mi.menu_item_id\n",
    "GROUP BY item_name, category\n",
    "ORDER BY COUNT(order_details_id);"
   ]
  },
  {
   "cell_type": "code",
   "execution_count": 0,
   "metadata": {
    "application/vnd.databricks.v1+cell": {
     "cellMetadata": {
      "byteLimit": 2048000,
      "rowLimit": 10000
     },
     "inputWidgets": {},
     "nuid": "edd2dbfc-230f-4361-ac62-5cfa15f9bb7c",
     "showTitle": false,
     "tableResultSettingsMap": {},
     "title": ""
    }
   },
   "outputs": [
    {
     "output_type": "display_data",
     "data": {
      "text/html": [
       "<style scoped>\n",
       "  .table-result-container {\n",
       "    max-height: 300px;\n",
       "    overflow: auto;\n",
       "  }\n",
       "  table, th, td {\n",
       "    border: 1px solid black;\n",
       "    border-collapse: collapse;\n",
       "  }\n",
       "  th, td {\n",
       "    padding: 5px;\n",
       "  }\n",
       "  th {\n",
       "    text-align: left;\n",
       "  }\n",
       "</style><div class='table-result-container'><table class='table-result'><thead style='background-color: white'><tr><th>item_name</th><th>category</th><th>count(order_details_id)</th></tr></thead><tbody><tr><td>Hamburger</td><td>American</td><td>622</td></tr><tr><td>Edamame</td><td>Asian</td><td>620</td></tr><tr><td>Korean Beef Bowl</td><td>Asian</td><td>588</td></tr><tr><td>Cheeseburger</td><td>American</td><td>583</td></tr><tr><td>French Fries</td><td>American</td><td>571</td></tr><tr><td>Tofu Pad Thai</td><td>Asian</td><td>562</td></tr><tr><td>Steak Torta</td><td>Mexican</td><td>489</td></tr><tr><td>Spaghetti & Meatballs</td><td>Italian</td><td>470</td></tr><tr><td>Mac & Cheese</td><td>American</td><td>463</td></tr><tr><td>Chips & Salsa</td><td>Mexican</td><td>461</td></tr><tr><td>Orange Chicken</td><td>Asian</td><td>456</td></tr><tr><td>Chicken Burrito</td><td>Mexican</td><td>455</td></tr><tr><td>Eggplant Parmesan</td><td>Italian</td><td>420</td></tr><tr><td>Chicken Torta</td><td>Mexican</td><td>379</td></tr><tr><td>Spaghetti</td><td>Italian</td><td>367</td></tr><tr><td>Chicken Parmesan</td><td>Italian</td><td>364</td></tr><tr><td>Pork Ramen</td><td>Asian</td><td>360</td></tr><tr><td>Mushroom Ravioli</td><td>Italian</td><td>359</td></tr><tr><td>California Roll</td><td>Asian</td><td>355</td></tr><tr><td>Steak Burrito</td><td>Mexican</td><td>354</td></tr><tr><td>Salmon Roll</td><td>Asian</td><td>324</td></tr><tr><td>Meat Lasagna</td><td>Italian</td><td>273</td></tr><tr><td>Hot Dog</td><td>American</td><td>257</td></tr><tr><td>Fettuccine Alfredo</td><td>Italian</td><td>249</td></tr><tr><td>Shrimp Scampi</td><td>Italian</td><td>239</td></tr><tr><td>Veggie Burger</td><td>American</td><td>238</td></tr><tr><td>Chips & Guacamole</td><td>Mexican</td><td>237</td></tr><tr><td>Cheese Quesadillas</td><td>Mexican</td><td>233</td></tr><tr><td>Steak Tacos</td><td>Mexican</td><td>214</td></tr><tr><td>Cheese Lasagna</td><td>Italian</td><td>207</td></tr><tr><td>Potstickers</td><td>Asian</td><td>205</td></tr><tr><td>null</td><td>null</td><td>137</td></tr><tr><td>Chicken Tacos</td><td>Mexican</td><td>123</td></tr></tbody></table></div>"
      ]
     },
     "metadata": {
      "application/vnd.databricks.v1+output": {
       "addedWidgets": {},
       "aggData": [],
       "aggError": "",
       "aggOverflow": false,
       "aggSchema": [],
       "aggSeriesLimitReached": false,
       "aggType": "",
       "arguments": {},
       "columnCustomDisplayInfos": {},
       "data": [
        [
         "Hamburger",
         "American",
         622
        ],
        [
         "Edamame",
         "Asian",
         620
        ],
        [
         "Korean Beef Bowl",
         "Asian",
         588
        ],
        [
         "Cheeseburger",
         "American",
         583
        ],
        [
         "French Fries",
         "American",
         571
        ],
        [
         "Tofu Pad Thai",
         "Asian",
         562
        ],
        [
         "Steak Torta",
         "Mexican",
         489
        ],
        [
         "Spaghetti & Meatballs",
         "Italian",
         470
        ],
        [
         "Mac & Cheese",
         "American",
         463
        ],
        [
         "Chips & Salsa",
         "Mexican",
         461
        ],
        [
         "Orange Chicken",
         "Asian",
         456
        ],
        [
         "Chicken Burrito",
         "Mexican",
         455
        ],
        [
         "Eggplant Parmesan",
         "Italian",
         420
        ],
        [
         "Chicken Torta",
         "Mexican",
         379
        ],
        [
         "Spaghetti",
         "Italian",
         367
        ],
        [
         "Chicken Parmesan",
         "Italian",
         364
        ],
        [
         "Pork Ramen",
         "Asian",
         360
        ],
        [
         "Mushroom Ravioli",
         "Italian",
         359
        ],
        [
         "California Roll",
         "Asian",
         355
        ],
        [
         "Steak Burrito",
         "Mexican",
         354
        ],
        [
         "Salmon Roll",
         "Asian",
         324
        ],
        [
         "Meat Lasagna",
         "Italian",
         273
        ],
        [
         "Hot Dog",
         "American",
         257
        ],
        [
         "Fettuccine Alfredo",
         "Italian",
         249
        ],
        [
         "Shrimp Scampi",
         "Italian",
         239
        ],
        [
         "Veggie Burger",
         "American",
         238
        ],
        [
         "Chips & Guacamole",
         "Mexican",
         237
        ],
        [
         "Cheese Quesadillas",
         "Mexican",
         233
        ],
        [
         "Steak Tacos",
         "Mexican",
         214
        ],
        [
         "Cheese Lasagna",
         "Italian",
         207
        ],
        [
         "Potstickers",
         "Asian",
         205
        ],
        [
         null,
         null,
         137
        ],
        [
         "Chicken Tacos",
         "Mexican",
         123
        ]
       ],
       "datasetInfos": [],
       "dbfsResultPath": null,
       "isJsonSchema": true,
       "metadata": {
        "isDbfsCommandResult": false
       },
       "overflow": false,
       "plotOptions": {
        "customPlotOptions": {},
        "displayType": "table",
        "pivotAggregation": null,
        "pivotColumns": null,
        "xColumns": null,
        "yColumns": null
       },
       "removedWidgets": [],
       "schema": [
        {
         "metadata": "{}",
         "name": "item_name",
         "type": "\"string\""
        },
        {
         "metadata": "{}",
         "name": "category",
         "type": "\"string\""
        },
        {
         "metadata": "{\"__autoGeneratedAlias\":\"true\"}",
         "name": "count(order_details_id)",
         "type": "\"long\""
        }
       ],
       "type": "table"
      }
     },
     "output_type": "display_data"
    },
    {
     "output_type": "display_data",
     "data": {
      "text/plain": [
       "Databricks visualization. Run in Databricks to view."
      ]
     },
     "metadata": {
      "application/vnd.databricks.v1.subcommand+json": {
       "baseErrorDetails": null,
       "bindings": {},
       "collapsed": false,
       "command": "%sql WITH q AS (SELECT item_name, category, COUNT(order_details_id) FROM order_details od \nLEFT JOIN menu_items mi \nON od.item_id = mi.menu_item_id\nGROUP BY item_name, category\nORDER BY COUNT(order_details_id) DESC) SELECT `item_name`,`category`,SUM(`count(order_details_id)`) `column_db24222c111` FROM q GROUP BY `category`,`item_name`",
       "commandTitle": "Visualization 1",
       "commandType": "auto",
       "commandVersion": 0,
       "commentThread": [],
       "commentsVisible": false,
       "contentSha256Hex": null,
       "customPlotOptions": {
        "redashChart": [
         {
          "key": "type",
          "value": "CHART"
         },
         {
          "key": "options",
          "value": {
           "alignYAxesAtZero": true,
           "coefficient": 1,
           "columnConfigurationMap": {
            "series": {
             "column": "category",
             "id": "column_db24222c110"
            },
            "x": {
             "column": "item_name",
             "id": "column_db24222c109"
            },
            "y": [
             {
              "column": "count(order_details_id)",
              "id": "column_db24222c111",
              "transform": "SUM"
             }
            ]
           },
           "dateTimeFormat": "DD/MM/YYYY HH:mm",
           "direction": {
            "type": "counterclockwise"
           },
           "error_y": {
            "type": "data",
            "visible": true
           },
           "globalSeriesType": "column",
           "isAggregationOn": true,
           "legend": {
            "traceorder": "normal"
           },
           "missingValuesAsZero": true,
           "numberFormat": "0,0.[00000]",
           "percentFormat": "0[.]00%",
           "series": {
            "error_y": {
             "type": "data",
             "visible": true
            },
            "stacking": "stack"
           },
           "seriesOptions": {
            "column_db24222c111": {
             "name": "count(order_details_id)",
             "yAxis": 0
            }
           },
           "showDataLabels": false,
           "sizemode": "diameter",
           "sortX": false,
           "sortY": true,
           "swappedAxes": true,
           "textFormat": "",
           "useAggregationsUi": true,
           "valuesOptions": {},
           "version": 2,
           "xAxis": {
            "labels": {
             "enabled": true
            },
            "type": "-"
           },
           "yAxis": [
            {
             "type": "-"
            },
            {
             "opposite": true,
             "type": "-"
            }
           ]
          }
         }
        ]
       },
       "datasetPreviewNameToCmdIdMap": {},
       "diffDeletes": [],
       "diffInserts": [],
       "displayType": "redashChart",
       "error": null,
       "errorDetails": null,
       "errorSummary": null,
       "errorTraceType": null,
       "finishTime": 0,
       "globalVars": {},
       "guid": "",
       "height": "auto",
       "hideCommandCode": false,
       "hideCommandResult": false,
       "iPythonMetadata": null,
       "inputWidgets": {},
       "isLockedInExamMode": false,
       "latestUser": "a user",
       "latestUserId": null,
       "listResultMetadata": null,
       "metadata": {},
       "nuid": "cee0b336-90c4-4a0f-9273-4f9cb2b92913",
       "origId": 0,
       "parentHierarchy": [],
       "pivotAggregation": null,
       "pivotColumns": null,
       "position": 17.5,
       "resultDbfsErrorMessage": null,
       "resultDbfsStatus": "INLINED_IN_TREE",
       "results": null,
       "showCommandTitle": false,
       "startTime": 0,
       "state": "input",
       "streamStates": {},
       "subcommandOptions": {
        "queryPlan": {
         "groups": [
          {
           "column": "item_name",
           "type": "column"
          },
          {
           "column": "category",
           "type": "column"
          }
         ],
         "selects": [
          {
           "column": "item_name",
           "type": "column"
          },
          {
           "column": "category",
           "type": "column"
          },
          {
           "alias": "column_db24222c111",
           "args": [
            {
             "column": "count(order_details_id)",
             "type": "column"
            }
           ],
           "function": "SUM",
           "type": "function"
          }
         ]
        }
       },
       "submitTime": 0,
       "subtype": "tableResultSubCmd.visualization",
       "tableResultIndex": 0,
       "tableResultSettingsMap": {},
       "useConsistentColors": false,
       "version": "CommandV1",
       "width": "auto",
       "workflows": [],
       "xColumns": null,
       "yColumns": null
      }
     },
     "output_type": "display_data"
    }
   ],
   "source": [
    "%sql\n",
    "-- Most ordered \n",
    "SELECT item_name, category, COUNT(order_details_id) FROM order_details od \n",
    "LEFT JOIN menu_items mi \n",
    "ON od.item_id = mi.menu_item_id\n",
    "GROUP BY item_name, category\n",
    "ORDER BY COUNT(order_details_id) DESC;"
   ]
  },
  {
   "cell_type": "code",
   "execution_count": 0,
   "metadata": {
    "application/vnd.databricks.v1+cell": {
     "cellMetadata": {
      "byteLimit": 2048000,
      "rowLimit": 10000
     },
     "inputWidgets": {},
     "nuid": "dd3c2718-f73d-4fe2-a552-32a88fa22395",
     "showTitle": false,
     "tableResultSettingsMap": {},
     "title": ""
    }
   },
   "outputs": [
    {
     "output_type": "display_data",
     "data": {
      "text/html": [
       "<style scoped>\n",
       "  .table-result-container {\n",
       "    max-height: 300px;\n",
       "    overflow: auto;\n",
       "  }\n",
       "  table, th, td {\n",
       "    border: 1px solid black;\n",
       "    border-collapse: collapse;\n",
       "  }\n",
       "  th, td {\n",
       "    padding: 5px;\n",
       "  }\n",
       "  th {\n",
       "    text-align: left;\n",
       "  }\n",
       "</style><div class='table-result-container'><table class='table-result'><thead style='background-color: white'><tr><th>order_id</th><th>TotalSpend</th></tr></thead><tbody><tr><td>440</td><td>192.15000438690186</td></tr><tr><td>2075</td><td>191.0500020980835</td></tr><tr><td>1957</td><td>190.10000228881836</td></tr><tr><td>330</td><td>189.70000171661377</td></tr><tr><td>2675</td><td>185.10000038146973</td></tr></tbody></table></div>"
      ]
     },
     "metadata": {
      "application/vnd.databricks.v1+output": {
       "addedWidgets": {},
       "aggData": [],
       "aggError": "",
       "aggOverflow": false,
       "aggSchema": [],
       "aggSeriesLimitReached": false,
       "aggType": "",
       "arguments": {},
       "columnCustomDisplayInfos": {},
       "data": [
        [
         440,
         192.15000438690186
        ],
        [
         2075,
         191.0500020980835
        ],
        [
         1957,
         190.10000228881836
        ],
        [
         330,
         189.70000171661377
        ],
        [
         2675,
         185.10000038146973
        ]
       ],
       "datasetInfos": [],
       "dbfsResultPath": null,
       "isJsonSchema": true,
       "metadata": {
        "isDbfsCommandResult": false
       },
       "overflow": false,
       "plotOptions": {
        "customPlotOptions": {},
        "displayType": "table",
        "pivotAggregation": null,
        "pivotColumns": null,
        "xColumns": null,
        "yColumns": null
       },
       "removedWidgets": [],
       "schema": [
        {
         "metadata": "{}",
         "name": "order_id",
         "type": "\"short\""
        },
        {
         "metadata": "{}",
         "name": "TotalSpend",
         "type": "\"double\""
        }
       ],
       "type": "table"
      }
     },
     "output_type": "display_data"
    }
   ],
   "source": [
    "%sql\n",
    "-- 3. What were the top 5 orders that spent the most money?\n",
    "SELECT order_id, SUM(price) AS TotalSpend FROM order_details od \n",
    "LEFT JOIN menu_items mi \n",
    "ON od.item_id = mi.menu_item_id\n",
    "GROUP BY order_id\n",
    "ORDER BY TotalSpend DESC\n",
    "LIMIT 5;"
   ]
  },
  {
   "cell_type": "code",
   "execution_count": 0,
   "metadata": {
    "application/vnd.databricks.v1+cell": {
     "cellMetadata": {
      "byteLimit": 2048000,
      "rowLimit": 10000
     },
     "inputWidgets": {},
     "nuid": "5ed647fe-b0fe-4275-b15a-1b86af020fa4",
     "showTitle": false,
     "tableResultSettingsMap": {},
     "title": ""
    }
   },
   "outputs": [
    {
     "output_type": "display_data",
     "data": {
      "text/html": [
       "<style scoped>\n",
       "  .table-result-container {\n",
       "    max-height: 300px;\n",
       "    overflow: auto;\n",
       "  }\n",
       "  table, th, td {\n",
       "    border: 1px solid black;\n",
       "    border-collapse: collapse;\n",
       "  }\n",
       "  th, td {\n",
       "    padding: 5px;\n",
       "  }\n",
       "  th {\n",
       "    text-align: left;\n",
       "  }\n",
       "</style><div class='table-result-container'><table class='table-result'><thead style='background-color: white'><tr><th>category</th><th>count(item_id)</th></tr></thead><tbody><tr><td>Mexican</td><td>2</td></tr><tr><td>Italian</td><td>8</td></tr><tr><td>Asian</td><td>2</td></tr><tr><td>American</td><td>2</td></tr></tbody></table></div>"
      ]
     },
     "metadata": {
      "application/vnd.databricks.v1+output": {
       "addedWidgets": {},
       "aggData": [],
       "aggError": "",
       "aggOverflow": false,
       "aggSchema": [],
       "aggSeriesLimitReached": false,
       "aggType": "",
       "arguments": {},
       "columnCustomDisplayInfos": {},
       "data": [
        [
         "Mexican",
         2
        ],
        [
         "Italian",
         8
        ],
        [
         "Asian",
         2
        ],
        [
         "American",
         2
        ]
       ],
       "datasetInfos": [],
       "dbfsResultPath": null,
       "isJsonSchema": true,
       "metadata": {
        "isDbfsCommandResult": false
       },
       "overflow": false,
       "plotOptions": {
        "customPlotOptions": {},
        "displayType": "table",
        "pivotAggregation": null,
        "pivotColumns": null,
        "xColumns": null,
        "yColumns": null
       },
       "removedWidgets": [],
       "schema": [
        {
         "metadata": "{}",
         "name": "category",
         "type": "\"string\""
        },
        {
         "metadata": "{\"__autoGeneratedAlias\":\"true\"}",
         "name": "count(item_id)",
         "type": "\"long\""
        }
       ],
       "type": "table"
      }
     },
     "output_type": "display_data"
    }
   ],
   "source": [
    "%sql\n",
    "-- 4. View the details of the highest spend order. What insights can you gather from the results?\n",
    "SELECT category, COUNT(od.item_id) FROM order_details od \n",
    "LEFT JOIN menu_items mi \n",
    "ON od.item_id = mi.menu_item_id\n",
    "WHERE od.order_id = 440\n",
    "GROUP BY category;\n"
   ]
  },
  {
   "cell_type": "code",
   "execution_count": 0,
   "metadata": {
    "application/vnd.databricks.v1+cell": {
     "cellMetadata": {
      "byteLimit": 2048000,
      "rowLimit": 10000
     },
     "inputWidgets": {},
     "nuid": "7eac3e4d-ec62-4f68-93da-951dfa8bff8e",
     "showTitle": false,
     "tableResultSettingsMap": {},
     "title": ""
    }
   },
   "outputs": [
    {
     "output_type": "display_data",
     "data": {
      "text/html": [
       "<style scoped>\n",
       "  .table-result-container {\n",
       "    max-height: 300px;\n",
       "    overflow: auto;\n",
       "  }\n",
       "  table, th, td {\n",
       "    border: 1px solid black;\n",
       "    border-collapse: collapse;\n",
       "  }\n",
       "  th, td {\n",
       "    padding: 5px;\n",
       "  }\n",
       "  th {\n",
       "    text-align: left;\n",
       "  }\n",
       "</style><div class='table-result-container'><table class='table-result'><thead style='background-color: white'><tr><th>category</th><th>count(item_id)</th></tr></thead><tbody><tr><td>Mexican</td><td>13</td></tr><tr><td>Italian</td><td>21</td></tr><tr><td>Asian</td><td>14</td></tr><tr><td>American</td><td>7</td></tr></tbody></table></div>"
      ]
     },
     "metadata": {
      "application/vnd.databricks.v1+output": {
       "addedWidgets": {},
       "aggData": [],
       "aggError": "",
       "aggOverflow": false,
       "aggSchema": [],
       "aggSeriesLimitReached": false,
       "aggType": "",
       "arguments": {},
       "columnCustomDisplayInfos": {},
       "data": [
        [
         "Mexican",
         13
        ],
        [
         "Italian",
         21
        ],
        [
         "Asian",
         14
        ],
        [
         "American",
         7
        ]
       ],
       "datasetInfos": [],
       "dbfsResultPath": null,
       "isJsonSchema": true,
       "metadata": {
        "isDbfsCommandResult": false
       },
       "overflow": false,
       "plotOptions": {
        "customPlotOptions": {},
        "displayType": "table",
        "pivotAggregation": null,
        "pivotColumns": null,
        "xColumns": null,
        "yColumns": null
       },
       "removedWidgets": [],
       "schema": [
        {
         "metadata": "{}",
         "name": "category",
         "type": "\"string\""
        },
        {
         "metadata": "{\"__autoGeneratedAlias\":\"true\"}",
         "name": "count(item_id)",
         "type": "\"long\""
        }
       ],
       "type": "table"
      }
     },
     "output_type": "display_data"
    }
   ],
   "source": [
    "%sql\n",
    "-- 5. View the details of the highest spend order. What insights can you gather from the results?\n",
    "SELECT category, COUNT(od.item_id) FROM order_details od \n",
    "LEFT JOIN menu_items mi \n",
    "ON od.item_id = mi.menu_item_id\n",
    "WHERE od.order_id IN (440, 2075, 19557, 330, 2675)\n",
    "GROUP BY category;"
   ]
  },
  {
   "cell_type": "code",
   "execution_count": 0,
   "metadata": {
    "application/vnd.databricks.v1+cell": {
     "cellMetadata": {
      "byteLimit": 2048000,
      "rowLimit": 10000
     },
     "inputWidgets": {},
     "nuid": "89f475e1-e524-44f8-9f4e-ba30b20f1bd2",
     "showTitle": false,
     "tableResultSettingsMap": {},
     "title": ""
    }
   },
   "outputs": [
    {
     "output_type": "display_data",
     "data": {
      "text/html": [
       "<style scoped>\n",
       "  .table-result-container {\n",
       "    max-height: 300px;\n",
       "    overflow: auto;\n",
       "  }\n",
       "  table, th, td {\n",
       "    border: 1px solid black;\n",
       "    border-collapse: collapse;\n",
       "  }\n",
       "  th, td {\n",
       "    padding: 5px;\n",
       "  }\n",
       "  th {\n",
       "    text-align: left;\n",
       "  }\n",
       "</style><div class='table-result-container'><table class='table-result'><thead style='background-color: white'><tr><th>order_id</th><th>category</th><th>count(item_id)</th></tr></thead><tbody><tr><td>2675</td><td>Asian</td><td>3</td></tr><tr><td>440</td><td>Asian</td><td>2</td></tr><tr><td>2075</td><td>American</td><td>1</td></tr><tr><td>330</td><td>American</td><td>1</td></tr><tr><td>2075</td><td>Asian</td><td>3</td></tr><tr><td>2675</td><td>Italian</td><td>4</td></tr><tr><td>2075</td><td>Mexican</td><td>3</td></tr><tr><td>330</td><td>Italian</td><td>3</td></tr><tr><td>330</td><td>Asian</td><td>6</td></tr><tr><td>2075</td><td>Italian</td><td>6</td></tr><tr><td>440</td><td>Mexican</td><td>2</td></tr><tr><td>330</td><td>Mexican</td><td>4</td></tr><tr><td>2675</td><td>American</td><td>3</td></tr><tr><td>2675</td><td>Mexican</td><td>4</td></tr><tr><td>440</td><td>Italian</td><td>8</td></tr><tr><td>440</td><td>American</td><td>2</td></tr></tbody></table></div>"
      ]
     },
     "metadata": {
      "application/vnd.databricks.v1+output": {
       "addedWidgets": {},
       "aggData": [],
       "aggError": "",
       "aggOverflow": false,
       "aggSchema": [],
       "aggSeriesLimitReached": false,
       "aggType": "",
       "arguments": {},
       "columnCustomDisplayInfos": {},
       "data": [
        [
         2675,
         "Asian",
         3
        ],
        [
         440,
         "Asian",
         2
        ],
        [
         2075,
         "American",
         1
        ],
        [
         330,
         "American",
         1
        ],
        [
         2075,
         "Asian",
         3
        ],
        [
         2675,
         "Italian",
         4
        ],
        [
         2075,
         "Mexican",
         3
        ],
        [
         330,
         "Italian",
         3
        ],
        [
         330,
         "Asian",
         6
        ],
        [
         2075,
         "Italian",
         6
        ],
        [
         440,
         "Mexican",
         2
        ],
        [
         330,
         "Mexican",
         4
        ],
        [
         2675,
         "American",
         3
        ],
        [
         2675,
         "Mexican",
         4
        ],
        [
         440,
         "Italian",
         8
        ],
        [
         440,
         "American",
         2
        ]
       ],
       "datasetInfos": [],
       "dbfsResultPath": null,
       "isJsonSchema": true,
       "metadata": {
        "isDbfsCommandResult": false
       },
       "overflow": false,
       "plotOptions": {
        "customPlotOptions": {},
        "displayType": "table",
        "pivotAggregation": null,
        "pivotColumns": null,
        "xColumns": null,
        "yColumns": null
       },
       "removedWidgets": [],
       "schema": [
        {
         "metadata": "{}",
         "name": "order_id",
         "type": "\"short\""
        },
        {
         "metadata": "{}",
         "name": "category",
         "type": "\"string\""
        },
        {
         "metadata": "{\"__autoGeneratedAlias\":\"true\"}",
         "name": "count(item_id)",
         "type": "\"long\""
        }
       ],
       "type": "table"
      }
     },
     "output_type": "display_data"
    }
   ],
   "source": [
    "%sql\n",
    "-- Break the result table from above down a little \n",
    "SELECT order_id, category, COUNT(od.item_id) FROM order_details od \n",
    "LEFT JOIN menu_items mi \n",
    "ON od.item_id = mi.menu_item_id\n",
    "WHERE od.order_id IN (440, 2075, 19557, 330, 2675)\n",
    "GROUP BY order_id, category;"
   ]
  },
  {
   "cell_type": "code",
   "execution_count": 0,
   "metadata": {
    "application/vnd.databricks.v1+cell": {
     "cellMetadata": {},
     "inputWidgets": {},
     "nuid": "62c7e0ad-7cd6-4d79-9006-703b85c959db",
     "showTitle": false,
     "tableResultSettingsMap": {},
     "title": ""
    }
   },
   "outputs": [],
   "source": []
  }
 ],
 "metadata": {
  "application/vnd.databricks.v1+notebook": {
   "computePreferences": null,
   "dashboards": [],
   "environmentMetadata": {
    "base_environment": "",
    "environment_version": "1"
   },
   "inputWidgetPreferences": null,
   "language": "python",
   "notebookMetadata": {
    "pythonIndentUnit": 4
   },
   "notebookName": "Restaurant",
   "widgets": {}
  }
 },
 "nbformat": 4,
 "nbformat_minor": 0
}